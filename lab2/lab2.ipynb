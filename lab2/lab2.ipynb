{
 "cells": [
  {
   "cell_type": "code",
   "id": "initial_id",
   "metadata": {
    "collapsed": true,
    "ExecuteTime": {
     "end_time": "2025-03-25T12:20:06.935006Z",
     "start_time": "2025-03-25T12:20:06.930005Z"
    }
   },
   "source": [
    "import pandas as pd\n",
    "import numpy as np\n",
    "from scipy import stats\n",
    "import seaborn as sns"
   ],
   "outputs": [],
   "execution_count": 1
  },
  {
   "metadata": {
    "ExecuteTime": {
     "end_time": "2025-03-25T12:20:06.966534Z",
     "start_time": "2025-03-25T12:20:06.937006Z"
    }
   },
   "cell_type": "code",
   "source": [
    "path = 'D:\\\\uni\\\\2курс\\ПЗМН\\ML_labs\\lab2\\data.csv'\n",
    "df = pd.read_csv(path)\n",
    "df.head()"
   ],
   "id": "5154ee44c4845285",
   "outputs": [
    {
     "data": {
      "text/plain": [
       "    #  New York (Central Park)  New York January Average Temperature\n",
       "0  # Units: Degrees Fahrenheit                                   NaN\n",
       "1               # Missing: -99                                   NaN\n",
       "2                         Date                                 Value\n",
       "3                       189501                                  27.6\n",
       "4                       189601                                    27"
      ],
      "text/html": [
       "<div>\n",
       "<style scoped>\n",
       "    .dataframe tbody tr th:only-of-type {\n",
       "        vertical-align: middle;\n",
       "    }\n",
       "\n",
       "    .dataframe tbody tr th {\n",
       "        vertical-align: top;\n",
       "    }\n",
       "\n",
       "    .dataframe thead th {\n",
       "        text-align: right;\n",
       "    }\n",
       "</style>\n",
       "<table border=\"1\" class=\"dataframe\">\n",
       "  <thead>\n",
       "    <tr style=\"text-align: right;\">\n",
       "      <th></th>\n",
       "      <th>#  New York (Central Park)</th>\n",
       "      <th>New York January Average Temperature</th>\n",
       "    </tr>\n",
       "  </thead>\n",
       "  <tbody>\n",
       "    <tr>\n",
       "      <th>0</th>\n",
       "      <td># Units: Degrees Fahrenheit</td>\n",
       "      <td>NaN</td>\n",
       "    </tr>\n",
       "    <tr>\n",
       "      <th>1</th>\n",
       "      <td># Missing: -99</td>\n",
       "      <td>NaN</td>\n",
       "    </tr>\n",
       "    <tr>\n",
       "      <th>2</th>\n",
       "      <td>Date</td>\n",
       "      <td>Value</td>\n",
       "    </tr>\n",
       "    <tr>\n",
       "      <th>3</th>\n",
       "      <td>189501</td>\n",
       "      <td>27.6</td>\n",
       "    </tr>\n",
       "    <tr>\n",
       "      <th>4</th>\n",
       "      <td>189601</td>\n",
       "      <td>27</td>\n",
       "    </tr>\n",
       "  </tbody>\n",
       "</table>\n",
       "</div>"
      ]
     },
     "execution_count": 2,
     "metadata": {},
     "output_type": "execute_result"
    }
   ],
   "execution_count": 2
  },
  {
   "metadata": {
    "ExecuteTime": {
     "end_time": "2025-03-25T12:20:06.974533Z",
     "start_time": "2025-03-25T12:20:06.968532Z"
    }
   },
   "cell_type": "code",
   "source": [
    "df = df.drop(df.head(3).index)\n",
    "df = df.reset_index(drop=True)"
   ],
   "id": "5589ba81cc330a1a",
   "outputs": [],
   "execution_count": 3
  },
  {
   "metadata": {
    "ExecuteTime": {
     "end_time": "2025-03-25T12:20:06.986538Z",
     "start_time": "2025-03-25T12:20:06.976532Z"
    }
   },
   "cell_type": "code",
   "source": "df.head()",
   "id": "54e935cdb482978e",
   "outputs": [
    {
     "data": {
      "text/plain": [
       "  #  New York (Central Park)  New York January Average Temperature\n",
       "0                     189501                                  27.6\n",
       "1                     189601                                    27\n",
       "2                     189701                                  27.8\n",
       "3                     189801                                  32.4\n",
       "4                     189901                                  28.4"
      ],
      "text/html": [
       "<div>\n",
       "<style scoped>\n",
       "    .dataframe tbody tr th:only-of-type {\n",
       "        vertical-align: middle;\n",
       "    }\n",
       "\n",
       "    .dataframe tbody tr th {\n",
       "        vertical-align: top;\n",
       "    }\n",
       "\n",
       "    .dataframe thead th {\n",
       "        text-align: right;\n",
       "    }\n",
       "</style>\n",
       "<table border=\"1\" class=\"dataframe\">\n",
       "  <thead>\n",
       "    <tr style=\"text-align: right;\">\n",
       "      <th></th>\n",
       "      <th>#  New York (Central Park)</th>\n",
       "      <th>New York January Average Temperature</th>\n",
       "    </tr>\n",
       "  </thead>\n",
       "  <tbody>\n",
       "    <tr>\n",
       "      <th>0</th>\n",
       "      <td>189501</td>\n",
       "      <td>27.6</td>\n",
       "    </tr>\n",
       "    <tr>\n",
       "      <th>1</th>\n",
       "      <td>189601</td>\n",
       "      <td>27</td>\n",
       "    </tr>\n",
       "    <tr>\n",
       "      <th>2</th>\n",
       "      <td>189701</td>\n",
       "      <td>27.8</td>\n",
       "    </tr>\n",
       "    <tr>\n",
       "      <th>3</th>\n",
       "      <td>189801</td>\n",
       "      <td>32.4</td>\n",
       "    </tr>\n",
       "    <tr>\n",
       "      <th>4</th>\n",
       "      <td>189901</td>\n",
       "      <td>28.4</td>\n",
       "    </tr>\n",
       "  </tbody>\n",
       "</table>\n",
       "</div>"
      ]
     },
     "execution_count": 4,
     "metadata": {},
     "output_type": "execute_result"
    }
   ],
   "execution_count": 4
  },
  {
   "metadata": {
    "ExecuteTime": {
     "end_time": "2025-03-25T12:20:06.996530Z",
     "start_time": "2025-03-25T12:20:06.988538Z"
    }
   },
   "cell_type": "code",
   "source": "df.columns",
   "id": "ba9993d0320bf90e",
   "outputs": [
    {
     "data": {
      "text/plain": [
       "Index(['#  New York (Central Park)', ' New York January Average Temperature'], dtype='object')"
      ]
     },
     "execution_count": 5,
     "metadata": {},
     "output_type": "execute_result"
    }
   ],
   "execution_count": 5
  },
  {
   "metadata": {
    "ExecuteTime": {
     "end_time": "2025-03-25T12:20:07.003533Z",
     "start_time": "2025-03-25T12:20:06.998530Z"
    }
   },
   "cell_type": "code",
   "source": [
    "df = df.rename(columns={\n",
    "    \"#  New York (Central Park)\": \"Year\",\n",
    "    \" New York January Average Temperature\": \"Temperature\"\n",
    "})"
   ],
   "id": "e7f29f74a8949ad2",
   "outputs": [],
   "execution_count": 6
  },
  {
   "metadata": {
    "ExecuteTime": {
     "end_time": "2025-03-25T12:20:07.016535Z",
     "start_time": "2025-03-25T12:20:07.005534Z"
    }
   },
   "cell_type": "code",
   "source": "df.head()",
   "id": "c6ec6fee3419d54e",
   "outputs": [
    {
     "data": {
      "text/plain": [
       "     Year Temperature\n",
       "0  189501        27.6\n",
       "1  189601          27\n",
       "2  189701        27.8\n",
       "3  189801        32.4\n",
       "4  189901        28.4"
      ],
      "text/html": [
       "<div>\n",
       "<style scoped>\n",
       "    .dataframe tbody tr th:only-of-type {\n",
       "        vertical-align: middle;\n",
       "    }\n",
       "\n",
       "    .dataframe tbody tr th {\n",
       "        vertical-align: top;\n",
       "    }\n",
       "\n",
       "    .dataframe thead th {\n",
       "        text-align: right;\n",
       "    }\n",
       "</style>\n",
       "<table border=\"1\" class=\"dataframe\">\n",
       "  <thead>\n",
       "    <tr style=\"text-align: right;\">\n",
       "      <th></th>\n",
       "      <th>Year</th>\n",
       "      <th>Temperature</th>\n",
       "    </tr>\n",
       "  </thead>\n",
       "  <tbody>\n",
       "    <tr>\n",
       "      <th>0</th>\n",
       "      <td>189501</td>\n",
       "      <td>27.6</td>\n",
       "    </tr>\n",
       "    <tr>\n",
       "      <th>1</th>\n",
       "      <td>189601</td>\n",
       "      <td>27</td>\n",
       "    </tr>\n",
       "    <tr>\n",
       "      <th>2</th>\n",
       "      <td>189701</td>\n",
       "      <td>27.8</td>\n",
       "    </tr>\n",
       "    <tr>\n",
       "      <th>3</th>\n",
       "      <td>189801</td>\n",
       "      <td>32.4</td>\n",
       "    </tr>\n",
       "    <tr>\n",
       "      <th>4</th>\n",
       "      <td>189901</td>\n",
       "      <td>28.4</td>\n",
       "    </tr>\n",
       "  </tbody>\n",
       "</table>\n",
       "</div>"
      ]
     },
     "execution_count": 7,
     "metadata": {},
     "output_type": "execute_result"
    }
   ],
   "execution_count": 7
  },
  {
   "metadata": {
    "ExecuteTime": {
     "end_time": "2025-03-25T12:20:07.033062Z",
     "start_time": "2025-03-25T12:20:07.023057Z"
    }
   },
   "cell_type": "code",
   "source": "df.tail()",
   "id": "25ebf5adf5cfb384",
   "outputs": [
    {
     "data": {
      "text/plain": [
       "       Year Temperature\n",
       "125  202001        39.2\n",
       "126  202101        34.8\n",
       "127  202201        30.4\n",
       "128  202301        43.5\n",
       "129  202401          37"
      ],
      "text/html": [
       "<div>\n",
       "<style scoped>\n",
       "    .dataframe tbody tr th:only-of-type {\n",
       "        vertical-align: middle;\n",
       "    }\n",
       "\n",
       "    .dataframe tbody tr th {\n",
       "        vertical-align: top;\n",
       "    }\n",
       "\n",
       "    .dataframe thead th {\n",
       "        text-align: right;\n",
       "    }\n",
       "</style>\n",
       "<table border=\"1\" class=\"dataframe\">\n",
       "  <thead>\n",
       "    <tr style=\"text-align: right;\">\n",
       "      <th></th>\n",
       "      <th>Year</th>\n",
       "      <th>Temperature</th>\n",
       "    </tr>\n",
       "  </thead>\n",
       "  <tbody>\n",
       "    <tr>\n",
       "      <th>125</th>\n",
       "      <td>202001</td>\n",
       "      <td>39.2</td>\n",
       "    </tr>\n",
       "    <tr>\n",
       "      <th>126</th>\n",
       "      <td>202101</td>\n",
       "      <td>34.8</td>\n",
       "    </tr>\n",
       "    <tr>\n",
       "      <th>127</th>\n",
       "      <td>202201</td>\n",
       "      <td>30.4</td>\n",
       "    </tr>\n",
       "    <tr>\n",
       "      <th>128</th>\n",
       "      <td>202301</td>\n",
       "      <td>43.5</td>\n",
       "    </tr>\n",
       "    <tr>\n",
       "      <th>129</th>\n",
       "      <td>202401</td>\n",
       "      <td>37</td>\n",
       "    </tr>\n",
       "  </tbody>\n",
       "</table>\n",
       "</div>"
      ]
     },
     "execution_count": 8,
     "metadata": {},
     "output_type": "execute_result"
    }
   ],
   "execution_count": 8
  },
  {
   "metadata": {
    "ExecuteTime": {
     "end_time": "2025-03-25T12:20:07.045061Z",
     "start_time": "2025-03-25T12:20:07.036058Z"
    }
   },
   "cell_type": "code",
   "source": "df.isnull().sum()",
   "id": "3813e21e3fd7904f",
   "outputs": [
    {
     "data": {
      "text/plain": [
       "Year           0\n",
       "Temperature    0\n",
       "dtype: int64"
      ]
     },
     "execution_count": 9,
     "metadata": {},
     "output_type": "execute_result"
    }
   ],
   "execution_count": 9
  },
  {
   "metadata": {
    "ExecuteTime": {
     "end_time": "2025-03-25T12:20:07.057585Z",
     "start_time": "2025-03-25T12:20:07.047058Z"
    }
   },
   "cell_type": "code",
   "source": "df.isna().sum()",
   "id": "51f2442f508b0288",
   "outputs": [
    {
     "data": {
      "text/plain": [
       "Year           0\n",
       "Temperature    0\n",
       "dtype: int64"
      ]
     },
     "execution_count": 10,
     "metadata": {},
     "output_type": "execute_result"
    }
   ],
   "execution_count": 10
  },
  {
   "metadata": {
    "ExecuteTime": {
     "end_time": "2025-03-25T12:20:07.068583Z",
     "start_time": "2025-03-25T12:20:07.060586Z"
    }
   },
   "cell_type": "code",
   "source": [
    "df.Year = df.Year.astype('int')\n",
    "df.Temperature = df.Temperature.astype('float')"
   ],
   "id": "a1319298778f8f04",
   "outputs": [],
   "execution_count": 11
  },
  {
   "metadata": {
    "ExecuteTime": {
     "end_time": "2025-03-25T12:20:07.077583Z",
     "start_time": "2025-03-25T12:20:07.070583Z"
    }
   },
   "cell_type": "code",
   "source": "df[\"Year\"] = df.Year.floordiv(100)",
   "id": "d405b1380b8a5477",
   "outputs": [],
   "execution_count": 12
  },
  {
   "metadata": {
    "ExecuteTime": {
     "end_time": "2025-03-25T12:20:07.091588Z",
     "start_time": "2025-03-25T12:20:07.079584Z"
    }
   },
   "cell_type": "code",
   "source": "df.head()",
   "id": "bc2dc0a93f7d7e11",
   "outputs": [
    {
     "data": {
      "text/plain": [
       "   Year  Temperature\n",
       "0  1895         27.6\n",
       "1  1896         27.0\n",
       "2  1897         27.8\n",
       "3  1898         32.4\n",
       "4  1899         28.4"
      ],
      "text/html": [
       "<div>\n",
       "<style scoped>\n",
       "    .dataframe tbody tr th:only-of-type {\n",
       "        vertical-align: middle;\n",
       "    }\n",
       "\n",
       "    .dataframe tbody tr th {\n",
       "        vertical-align: top;\n",
       "    }\n",
       "\n",
       "    .dataframe thead th {\n",
       "        text-align: right;\n",
       "    }\n",
       "</style>\n",
       "<table border=\"1\" class=\"dataframe\">\n",
       "  <thead>\n",
       "    <tr style=\"text-align: right;\">\n",
       "      <th></th>\n",
       "      <th>Year</th>\n",
       "      <th>Temperature</th>\n",
       "    </tr>\n",
       "  </thead>\n",
       "  <tbody>\n",
       "    <tr>\n",
       "      <th>0</th>\n",
       "      <td>1895</td>\n",
       "      <td>27.6</td>\n",
       "    </tr>\n",
       "    <tr>\n",
       "      <th>1</th>\n",
       "      <td>1896</td>\n",
       "      <td>27.0</td>\n",
       "    </tr>\n",
       "    <tr>\n",
       "      <th>2</th>\n",
       "      <td>1897</td>\n",
       "      <td>27.8</td>\n",
       "    </tr>\n",
       "    <tr>\n",
       "      <th>3</th>\n",
       "      <td>1898</td>\n",
       "      <td>32.4</td>\n",
       "    </tr>\n",
       "    <tr>\n",
       "      <th>4</th>\n",
       "      <td>1899</td>\n",
       "      <td>28.4</td>\n",
       "    </tr>\n",
       "  </tbody>\n",
       "</table>\n",
       "</div>"
      ]
     },
     "execution_count": 13,
     "metadata": {},
     "output_type": "execute_result"
    }
   ],
   "execution_count": 13
  },
  {
   "metadata": {
    "ExecuteTime": {
     "end_time": "2025-03-25T12:20:07.104587Z",
     "start_time": "2025-03-25T12:20:07.093586Z"
    }
   },
   "cell_type": "code",
   "source": "df.tail()",
   "id": "fde5d050a4d3b1ba",
   "outputs": [
    {
     "data": {
      "text/plain": [
       "     Year  Temperature\n",
       "125  2020         39.2\n",
       "126  2021         34.8\n",
       "127  2022         30.4\n",
       "128  2023         43.5\n",
       "129  2024         37.0"
      ],
      "text/html": [
       "<div>\n",
       "<style scoped>\n",
       "    .dataframe tbody tr th:only-of-type {\n",
       "        vertical-align: middle;\n",
       "    }\n",
       "\n",
       "    .dataframe tbody tr th {\n",
       "        vertical-align: top;\n",
       "    }\n",
       "\n",
       "    .dataframe thead th {\n",
       "        text-align: right;\n",
       "    }\n",
       "</style>\n",
       "<table border=\"1\" class=\"dataframe\">\n",
       "  <thead>\n",
       "    <tr style=\"text-align: right;\">\n",
       "      <th></th>\n",
       "      <th>Year</th>\n",
       "      <th>Temperature</th>\n",
       "    </tr>\n",
       "  </thead>\n",
       "  <tbody>\n",
       "    <tr>\n",
       "      <th>125</th>\n",
       "      <td>2020</td>\n",
       "      <td>39.2</td>\n",
       "    </tr>\n",
       "    <tr>\n",
       "      <th>126</th>\n",
       "      <td>2021</td>\n",
       "      <td>34.8</td>\n",
       "    </tr>\n",
       "    <tr>\n",
       "      <th>127</th>\n",
       "      <td>2022</td>\n",
       "      <td>30.4</td>\n",
       "    </tr>\n",
       "    <tr>\n",
       "      <th>128</th>\n",
       "      <td>2023</td>\n",
       "      <td>43.5</td>\n",
       "    </tr>\n",
       "    <tr>\n",
       "      <th>129</th>\n",
       "      <td>2024</td>\n",
       "      <td>37.0</td>\n",
       "    </tr>\n",
       "  </tbody>\n",
       "</table>\n",
       "</div>"
      ]
     },
     "execution_count": 14,
     "metadata": {},
     "output_type": "execute_result"
    }
   ],
   "execution_count": 14
  },
  {
   "metadata": {
    "ExecuteTime": {
     "end_time": "2025-03-25T12:20:07.117589Z",
     "start_time": "2025-03-25T12:20:07.106586Z"
    }
   },
   "cell_type": "code",
   "source": "df.Temperature.describe()",
   "id": "fe8caa80a583a161",
   "outputs": [
    {
     "data": {
      "text/plain": [
       "count    130.000000\n",
       "mean      31.298462\n",
       "std        4.665991\n",
       "min       19.900000\n",
       "25%       28.100000\n",
       "50%       31.200000\n",
       "75%       34.275000\n",
       "max       43.500000\n",
       "Name: Temperature, dtype: float64"
      ]
     },
     "execution_count": 15,
     "metadata": {},
     "output_type": "execute_result"
    }
   ],
   "execution_count": 15
  },
  {
   "metadata": {
    "ExecuteTime": {
     "end_time": "2025-03-25T12:20:07.130585Z",
     "start_time": "2025-03-25T12:20:07.119585Z"
    }
   },
   "cell_type": "code",
   "source": "df.isna().sum()",
   "id": "a8176a88ab998fb8",
   "outputs": [
    {
     "data": {
      "text/plain": [
       "Year           0\n",
       "Temperature    0\n",
       "dtype: int64"
      ]
     },
     "execution_count": 16,
     "metadata": {},
     "output_type": "execute_result"
    }
   ],
   "execution_count": 16
  },
  {
   "metadata": {
    "ExecuteTime": {
     "end_time": "2025-03-25T12:20:07.145585Z",
     "start_time": "2025-03-25T12:20:07.133587Z"
    }
   },
   "cell_type": "code",
   "source": [
    "df_mod = df.iloc[:-4].copy()\n",
    "df_mod.tail()"
   ],
   "id": "70b99f08ff279101",
   "outputs": [
    {
     "data": {
      "text/plain": [
       "     Year  Temperature\n",
       "121  2016         34.5\n",
       "122  2017         38.1\n",
       "123  2018         31.8\n",
       "124  2019         32.6\n",
       "125  2020         39.2"
      ],
      "text/html": [
       "<div>\n",
       "<style scoped>\n",
       "    .dataframe tbody tr th:only-of-type {\n",
       "        vertical-align: middle;\n",
       "    }\n",
       "\n",
       "    .dataframe tbody tr th {\n",
       "        vertical-align: top;\n",
       "    }\n",
       "\n",
       "    .dataframe thead th {\n",
       "        text-align: right;\n",
       "    }\n",
       "</style>\n",
       "<table border=\"1\" class=\"dataframe\">\n",
       "  <thead>\n",
       "    <tr style=\"text-align: right;\">\n",
       "      <th></th>\n",
       "      <th>Year</th>\n",
       "      <th>Temperature</th>\n",
       "    </tr>\n",
       "  </thead>\n",
       "  <tbody>\n",
       "    <tr>\n",
       "      <th>121</th>\n",
       "      <td>2016</td>\n",
       "      <td>34.5</td>\n",
       "    </tr>\n",
       "    <tr>\n",
       "      <th>122</th>\n",
       "      <td>2017</td>\n",
       "      <td>38.1</td>\n",
       "    </tr>\n",
       "    <tr>\n",
       "      <th>123</th>\n",
       "      <td>2018</td>\n",
       "      <td>31.8</td>\n",
       "    </tr>\n",
       "    <tr>\n",
       "      <th>124</th>\n",
       "      <td>2019</td>\n",
       "      <td>32.6</td>\n",
       "    </tr>\n",
       "    <tr>\n",
       "      <th>125</th>\n",
       "      <td>2020</td>\n",
       "      <td>39.2</td>\n",
       "    </tr>\n",
       "  </tbody>\n",
       "</table>\n",
       "</div>"
      ]
     },
     "execution_count": 17,
     "metadata": {},
     "output_type": "execute_result"
    }
   ],
   "execution_count": 17
  },
  {
   "metadata": {
    "ExecuteTime": {
     "end_time": "2025-03-25T12:20:07.524149Z",
     "start_time": "2025-03-25T12:20:07.147582Z"
    }
   },
   "cell_type": "code",
   "source": [
    "sns.set_style(\"whitegrid\")\n",
    "axes = sns.regplot(x=df_mod.Year, y=df_mod.Temperature, line_kws={\"color\": \"red\"}, scatter=False)"
   ],
   "id": "6b8049ba7c6bf8e",
   "outputs": [
    {
     "data": {
      "text/plain": [
       "<Figure size 640x480 with 1 Axes>"
      ],
      "image/png": "[encoded data removed]"
     },
     "metadata": {},
     "output_type": "display_data"
    }
   ],
   "execution_count": 18
  },
  {
   "metadata": {
    "ExecuteTime": {
     "end_time": "2025-03-25T12:20:07.539152Z",
     "start_time": "2025-03-25T12:20:07.526153Z"
    }
   },
   "cell_type": "code",
   "source": [
    "df_test = df.iloc[-4:].copy()\n",
    "df_test = df_test.reset_index(drop=True)\n",
    "df_test"
   ],
   "id": "df32e17662095df2",
   "outputs": [
    {
     "data": {
      "text/plain": [
       "   Year  Temperature\n",
       "0  2021         34.8\n",
       "1  2022         30.4\n",
       "2  2023         43.5\n",
       "3  2024         37.0"
      ],
      "text/html": [
       "<div>\n",
       "<style scoped>\n",
       "    .dataframe tbody tr th:only-of-type {\n",
       "        vertical-align: middle;\n",
       "    }\n",
       "\n",
       "    .dataframe tbody tr th {\n",
       "        vertical-align: top;\n",
       "    }\n",
       "\n",
       "    .dataframe thead th {\n",
       "        text-align: right;\n",
       "    }\n",
       "</style>\n",
       "<table border=\"1\" class=\"dataframe\">\n",
       "  <thead>\n",
       "    <tr style=\"text-align: right;\">\n",
       "      <th></th>\n",
       "      <th>Year</th>\n",
       "      <th>Temperature</th>\n",
       "    </tr>\n",
       "  </thead>\n",
       "  <tbody>\n",
       "    <tr>\n",
       "      <th>0</th>\n",
       "      <td>2021</td>\n",
       "      <td>34.8</td>\n",
       "    </tr>\n",
       "    <tr>\n",
       "      <th>1</th>\n",
       "      <td>2022</td>\n",
       "      <td>30.4</td>\n",
       "    </tr>\n",
       "    <tr>\n",
       "      <th>2</th>\n",
       "      <td>2023</td>\n",
       "      <td>43.5</td>\n",
       "    </tr>\n",
       "    <tr>\n",
       "      <th>3</th>\n",
       "      <td>2024</td>\n",
       "      <td>37.0</td>\n",
       "    </tr>\n",
       "  </tbody>\n",
       "</table>\n",
       "</div>"
      ]
     },
     "execution_count": 19,
     "metadata": {},
     "output_type": "execute_result"
    }
   ],
   "execution_count": 19
  },
  {
   "metadata": {
    "ExecuteTime": {
     "end_time": "2025-03-25T12:20:07.549151Z",
     "start_time": "2025-03-25T12:20:07.541149Z"
    }
   },
   "cell_type": "code",
   "source": "df_test.Year[0]",
   "id": "776ebc771b9cc773",
   "outputs": [
    {
     "data": {
      "text/plain": [
       "np.int64(2021)"
      ]
     },
     "execution_count": 20,
     "metadata": {},
     "output_type": "execute_result"
    }
   ],
   "execution_count": 20
  },
  {
   "metadata": {
    "ExecuteTime": {
     "end_time": "2025-03-25T12:20:07.558149Z",
     "start_time": "2025-03-25T12:20:07.551148Z"
    }
   },
   "cell_type": "code",
   "source": "lin_reg = stats.linregress(df_mod.Year, df_mod.Temperature)",
   "id": "9453f54373cdd5a",
   "outputs": [],
   "execution_count": 21
  },
  {
   "metadata": {
    "ExecuteTime": {
     "end_time": "2025-03-25T12:20:07.568148Z",
     "start_time": "2025-03-25T12:20:07.560148Z"
    }
   },
   "cell_type": "code",
   "source": [
    "slope = lin_reg.slope\n",
    "print(slope)"
   ],
   "id": "90225b537c5712d8",
   "outputs": [
    {
     "name": "stdout",
     "output_type": "stream",
     "text": [
      "0.03208668916385451\n"
     ]
    }
   ],
   "execution_count": 22
  },
  {
   "metadata": {
    "ExecuteTime": {
     "end_time": "2025-03-25T12:20:07.577148Z",
     "start_time": "2025-03-25T12:20:07.570148Z"
    }
   },
   "cell_type": "code",
   "source": [
    "intcpt = lin_reg.intercept\n",
    "print(intcpt)"
   ],
   "id": "86376f24b7fd38c0",
   "outputs": [
    {
     "name": "stdout",
     "output_type": "stream",
     "text": [
      "-31.673979752530915\n"
     ]
    }
   ],
   "execution_count": 23
  },
  {
   "metadata": {
    "ExecuteTime": {
     "end_time": "2025-03-25T12:20:07.594150Z",
     "start_time": "2025-03-25T12:20:07.579147Z"
    }
   },
   "cell_type": "code",
   "source": [
    "n = len(df_test.index)\n",
    "df_test[\"Predicted_Temp\"] = slope * df_test.Year + intcpt\n",
    "df_test[\"Temp_Difference\"] = np.abs(df_test.Temperature-df_test.Predicted_Temp)\n",
    "df_test"
   ],
   "id": "9c8fea9a93929fb0",
   "outputs": [
    {
     "data": {
      "text/plain": [
       "   Year  Temperature  Predicted_Temp  Temp_Difference\n",
       "0  2021         34.8       33.173219         1.626781\n",
       "1  2022         30.4       33.205306         2.805306\n",
       "2  2023         43.5       33.237392        10.262608\n",
       "3  2024         37.0       33.269479         3.730521"
      ],
      "text/html": [
       "<div>\n",
       "<style scoped>\n",
       "    .dataframe tbody tr th:only-of-type {\n",
       "        vertical-align: middle;\n",
       "    }\n",
       "\n",
       "    .dataframe tbody tr th {\n",
       "        vertical-align: top;\n",
       "    }\n",
       "\n",
       "    .dataframe thead th {\n",
       "        text-align: right;\n",
       "    }\n",
       "</style>\n",
       "<table border=\"1\" class=\"dataframe\">\n",
       "  <thead>\n",
       "    <tr style=\"text-align: right;\">\n",
       "      <th></th>\n",
       "      <th>Year</th>\n",
       "      <th>Temperature</th>\n",
       "      <th>Predicted_Temp</th>\n",
       "      <th>Temp_Difference</th>\n",
       "    </tr>\n",
       "  </thead>\n",
       "  <tbody>\n",
       "    <tr>\n",
       "      <th>0</th>\n",
       "      <td>2021</td>\n",
       "      <td>34.8</td>\n",
       "      <td>33.173219</td>\n",
       "      <td>1.626781</td>\n",
       "    </tr>\n",
       "    <tr>\n",
       "      <th>1</th>\n",
       "      <td>2022</td>\n",
       "      <td>30.4</td>\n",
       "      <td>33.205306</td>\n",
       "      <td>2.805306</td>\n",
       "    </tr>\n",
       "    <tr>\n",
       "      <th>2</th>\n",
       "      <td>2023</td>\n",
       "      <td>43.5</td>\n",
       "      <td>33.237392</td>\n",
       "      <td>10.262608</td>\n",
       "    </tr>\n",
       "    <tr>\n",
       "      <th>3</th>\n",
       "      <td>2024</td>\n",
       "      <td>37.0</td>\n",
       "      <td>33.269479</td>\n",
       "      <td>3.730521</td>\n",
       "    </tr>\n",
       "  </tbody>\n",
       "</table>\n",
       "</div>"
      ]
     },
     "execution_count": 24,
     "metadata": {},
     "output_type": "execute_result"
    }
   ],
   "execution_count": 24
  },
  {
   "metadata": {
    "ExecuteTime": {
     "end_time": "2025-03-25T12:20:07.604150Z",
     "start_time": "2025-03-25T12:20:07.596149Z"
    }
   },
   "cell_type": "code",
   "source": [
    "MSE = np.round(np.square(np.subtract(df_test.Temperature, df_test.Predicted_Temp)).mean(), 3)\n",
    "print(MSE)"
   ],
   "id": "3d2b211d794688c2",
   "outputs": [
    {
     "name": "stdout",
     "output_type": "stream",
     "text": [
      "32.439\n"
     ]
    }
   ],
   "execution_count": 25
  },
  {
   "metadata": {
    "ExecuteTime": {
     "end_time": "2025-03-25T12:20:07.619149Z",
     "start_time": "2025-03-25T12:20:07.606150Z"
    }
   },
   "cell_type": "code",
   "source": [
    "df_bfr1895 = pd.DataFrame({'Year': range(1885, 1895)})\n",
    "df_bfr1895[\"Predicted_Temp\"] = slope * df_bfr1895.Year + intcpt\n",
    "df_bfr1895"
   ],
   "id": "a96e2439a489911",
   "outputs": [
    {
     "data": {
      "text/plain": [
       "   Year  Predicted_Temp\n",
       "0  1885       28.809429\n",
       "1  1886       28.841516\n",
       "2  1887       28.873603\n",
       "3  1888       28.905689\n",
       "4  1889       28.937776\n",
       "5  1890       28.969863\n",
       "6  1891       29.001949\n",
       "7  1892       29.034036\n",
       "8  1893       29.066123\n",
       "9  1894       29.098210"
      ],
      "text/html": [
       "<div>\n",
       "<style scoped>\n",
       "    .dataframe tbody tr th:only-of-type {\n",
       "        vertical-align: middle;\n",
       "    }\n",
       "\n",
       "    .dataframe tbody tr th {\n",
       "        vertical-align: top;\n",
       "    }\n",
       "\n",
       "    .dataframe thead th {\n",
       "        text-align: right;\n",
       "    }\n",
       "</style>\n",
       "<table border=\"1\" class=\"dataframe\">\n",
       "  <thead>\n",
       "    <tr style=\"text-align: right;\">\n",
       "      <th></th>\n",
       "      <th>Year</th>\n",
       "      <th>Predicted_Temp</th>\n",
       "    </tr>\n",
       "  </thead>\n",
       "  <tbody>\n",
       "    <tr>\n",
       "      <th>0</th>\n",
       "      <td>1885</td>\n",
       "      <td>28.809429</td>\n",
       "    </tr>\n",
       "    <tr>\n",
       "      <th>1</th>\n",
       "      <td>1886</td>\n",
       "      <td>28.841516</td>\n",
       "    </tr>\n",
       "    <tr>\n",
       "      <th>2</th>\n",
       "      <td>1887</td>\n",
       "      <td>28.873603</td>\n",
       "    </tr>\n",
       "    <tr>\n",
       "      <th>3</th>\n",
       "      <td>1888</td>\n",
       "      <td>28.905689</td>\n",
       "    </tr>\n",
       "    <tr>\n",
       "      <th>4</th>\n",
       "      <td>1889</td>\n",
       "      <td>28.937776</td>\n",
       "    </tr>\n",
       "    <tr>\n",
       "      <th>5</th>\n",
       "      <td>1890</td>\n",
       "      <td>28.969863</td>\n",
       "    </tr>\n",
       "    <tr>\n",
       "      <th>6</th>\n",
       "      <td>1891</td>\n",
       "      <td>29.001949</td>\n",
       "    </tr>\n",
       "    <tr>\n",
       "      <th>7</th>\n",
       "      <td>1892</td>\n",
       "      <td>29.034036</td>\n",
       "    </tr>\n",
       "    <tr>\n",
       "      <th>8</th>\n",
       "      <td>1893</td>\n",
       "      <td>29.066123</td>\n",
       "    </tr>\n",
       "    <tr>\n",
       "      <th>9</th>\n",
       "      <td>1894</td>\n",
       "      <td>29.098210</td>\n",
       "    </tr>\n",
       "  </tbody>\n",
       "</table>\n",
       "</div>"
      ]
     },
     "execution_count": 26,
     "metadata": {},
     "output_type": "execute_result"
    }
   ],
   "execution_count": 26
  },
  {
   "metadata": {
    "ExecuteTime": {
     "end_time": "2025-03-25T12:20:08.008218Z",
     "start_time": "2025-03-25T12:20:07.621147Z"
    }
   },
   "cell_type": "code",
   "source": "axes = sns.regplot(x=df.Year, y=df.Temperature, scatter_kws={\"color\": \"blue\"}, line_kws={\"color\": \"red\"})",
   "id": "60a77f50eafb0af3",
   "outputs": [
    {
     "data": {
      "text/plain": [
       "<Figure size 640x480 with 1 Axes>"
      ],
      "image/png": "[encoded data removed]"
     },
     "metadata": {},
     "output_type": "display_data"
    }
   ],
   "execution_count": 27
  },
  {
   "metadata": {
    "ExecuteTime": {
     "end_time": "2025-03-25T12:20:08.413270Z",
     "start_time": "2025-03-25T12:20:08.011219Z"
    }
   },
   "cell_type": "code",
   "source": "sns.regplot(x=df.Year, y=df.Temperature, scatter_kws={\"color\": \"blue\"}, line_kws={\"color\": \"red\"}).set_ylim(10, 90)",
   "id": "89ee81b0983b9892",
   "outputs": [
    {
     "data": {
      "text/plain": [
       "(10.0, 90.0)"
      ]
     },
     "execution_count": 28,
     "metadata": {},
     "output_type": "execute_result"
    },
    {
     "data": {
      "text/plain": [
       "<Figure size 640x480 with 1 Axes>"
      ],
      "image/png": "[encoded data removed]"
     },
     "metadata": {},
     "output_type": "display_data"
    }
   ],
   "execution_count": 28
  },
  {
   "metadata": {
    "ExecuteTime": {
     "end_time": "2025-03-25T12:20:08.872853Z",
     "start_time": "2025-03-25T12:20:08.417831Z"
    }
   },
   "cell_type": "code",
   "source": "sns.regplot(x=df.Year, y=df.Temperature, scatter_kws={\"color\": \"blue\"}, line_kws={\"color\": \"red\"}).set_ylim(10, 70)",
   "id": "bce8bb558599724b",
   "outputs": [
    {
     "data": {
      "text/plain": [
       "(10.0, 70.0)"
      ]
     },
     "execution_count": 29,
     "metadata": {},
     "output_type": "execute_result"
    },
    {
     "data": {
      "text/plain": [
       "<Figure size 640x480 with 1 Axes>"
      ],
      "image/png": "[encoded data removed]"
     },
     "metadata": {},
     "output_type": "display_data"
    }
   ],
   "execution_count": 29
  },
  {
   "metadata": {
    "ExecuteTime": {
     "end_time": "2025-03-25T12:20:09.147855Z",
     "start_time": "2025-03-25T12:20:08.874853Z"
    }
   },
   "cell_type": "code",
   "source": "sns.regplot(x=df.Year, y=df.Temperature, scatter_kws={\"color\": \"blue\"}, line_kws={\"color\": \"red\"}).set_ylim(25, 40)",
   "id": "8a6949e6c85eba86",
   "outputs": [
    {
     "data": {
      "text/plain": [
       "(25.0, 40.0)"
      ]
     },
     "execution_count": 30,
     "metadata": {},
     "output_type": "execute_result"
    },
    {
     "data": {
      "text/plain": [
       "<Figure size 640x480 with 1 Axes>"
      ],
      "image/png": "[encoded data removed]"
     },
     "metadata": {},
     "output_type": "display_data"
    }
   ],
   "execution_count": 30
  }
 ],
 "metadata": {
  "kernelspec": {
   "display_name": "Python 3",
   "language": "python",
   "name": "python3"
  },
  "language_info": {
   "codemirror_mode": {
    "name": "ipython",
    "version": 2
   },
   "file_extension": ".py",
   "mimetype": "text/x-python",
   "name": "python",
   "nbconvert_exporter": "python",
   "pygments_lexer": "ipython2",
   "version": "2.7.6"
  }
 },
 "nbformat": 4,
 "nbformat_minor": 5
}
