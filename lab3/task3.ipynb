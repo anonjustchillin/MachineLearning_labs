{
 "cells": [
  {
   "cell_type": "code",
   "id": "initial_id",
   "metadata": {
    "collapsed": true,
    "ExecuteTime": {
     "end_time": "2025-04-01T22:13:15.836366Z",
     "start_time": "2025-04-01T22:13:15.820727Z"
    }
   },
   "source": [
    "import pandas as pd\n",
    "import numpy as np\n",
    "import seaborn as sns\n",
    "\n",
    "import matplotlib.pyplot as plt\n",
    "\n",
    "from sklearn.datasets import load_wine\n",
    "from sklearn.svm import SVC\n",
    "from sklearn.naive_bayes import GaussianNB\n",
    "from sklearn.neighbors import KNeighborsClassifier\n",
    "\n",
    "from sklearn.preprocessing import StandardScaler\n",
    "from sklearn.model_selection import train_test_split, GridSearchCV\n",
    "from sklearn.pipeline import Pipeline\n",
    "\n",
    "from sklearn.metrics import confusion_matrix, classification_report"
   ],
   "outputs": [],
   "execution_count": 141
  },
  {
   "metadata": {
    "ExecuteTime": {
     "end_time": "2025-04-01T22:13:16.068037Z",
     "start_time": "2025-04-01T22:13:16.036788Z"
    }
   },
   "cell_type": "code",
   "source": [
    "wine = load_wine()\n",
    "df_wine = pd.DataFrame(data=np.c_[wine['data'], wine['target']], columns=wine['feature_names']+['target'])\n",
    "df_wine.head()"
   ],
   "id": "617e7ee64db0659e",
   "outputs": [
    {
     "data": {
      "text/plain": [
       "   alcohol  malic_acid   ash  alcalinity_of_ash  magnesium  total_phenols  \\\n",
       "0    14.23        1.71  2.43               15.6      127.0           2.80   \n",
       "1    13.20        1.78  2.14               11.2      100.0           2.65   \n",
       "2    13.16        2.36  2.67               18.6      101.0           2.80   \n",
       "3    14.37        1.95  2.50               16.8      113.0           3.85   \n",
       "4    13.24        2.59  2.87               21.0      118.0           2.80   \n",
       "\n",
       "   flavanoids  nonflavanoid_phenols  proanthocyanins  color_intensity   hue  \\\n",
       "0        3.06                  0.28             2.29             5.64  1.04   \n",
       "1        2.76                  0.26             1.28             4.38  1.05   \n",
       "2        3.24                  0.30             2.81             5.68  1.03   \n",
       "3        3.49                  0.24             2.18             7.80  0.86   \n",
       "4        2.69                  0.39             1.82             4.32  1.04   \n",
       "\n",
       "   od280/od315_of_diluted_wines  proline  target  \n",
       "0                          3.92   1065.0     0.0  \n",
       "1                          3.40   1050.0     0.0  \n",
       "2                          3.17   1185.0     0.0  \n",
       "3                          3.45   1480.0     0.0  \n",
       "4                          2.93    735.0     0.0  "
      ],
      "text/html": [
       "<div>\n",
       "<style scoped>\n",
       "    .dataframe tbody tr th:only-of-type {\n",
       "        vertical-align: middle;\n",
       "    }\n",
       "\n",
       "    .dataframe tbody tr th {\n",
       "        vertical-align: top;\n",
       "    }\n",
       "\n",
       "    .dataframe thead th {\n",
       "        text-align: right;\n",
       "    }\n",
       "</style>\n",
       "<table border=\"1\" class=\"dataframe\">\n",
       "  <thead>\n",
       "    <tr style=\"text-align: right;\">\n",
       "      <th></th>\n",
       "      <th>alcohol</th>\n",
       "      <th>malic_acid</th>\n",
       "      <th>ash</th>\n",
       "      <th>alcalinity_of_ash</th>\n",
       "      <th>magnesium</th>\n",
       "      <th>total_phenols</th>\n",
       "      <th>flavanoids</th>\n",
       "      <th>nonflavanoid_phenols</th>\n",
       "      <th>proanthocyanins</th>\n",
       "      <th>color_intensity</th>\n",
       "      <th>hue</th>\n",
       "      <th>od280/od315_of_diluted_wines</th>\n",
       "      <th>proline</th>\n",
       "      <th>target</th>\n",
       "    </tr>\n",
       "  </thead>\n",
       "  <tbody>\n",
       "    <tr>\n",
       "      <th>0</th>\n",
       "      <td>14.23</td>\n",
       "      <td>1.71</td>\n",
       "      <td>2.43</td>\n",
       "      <td>15.6</td>\n",
       "      <td>127.0</td>\n",
       "      <td>2.80</td>\n",
       "      <td>3.06</td>\n",
       "      <td>0.28</td>\n",
       "      <td>2.29</td>\n",
       "      <td>5.64</td>\n",
       "      <td>1.04</td>\n",
       "      <td>3.92</td>\n",
       "      <td>1065.0</td>\n",
       "      <td>0.0</td>\n",
       "    </tr>\n",
       "    <tr>\n",
       "      <th>1</th>\n",
       "      <td>13.20</td>\n",
       "      <td>1.78</td>\n",
       "      <td>2.14</td>\n",
       "      <td>11.2</td>\n",
       "      <td>100.0</td>\n",
       "      <td>2.65</td>\n",
       "      <td>2.76</td>\n",
       "      <td>0.26</td>\n",
       "      <td>1.28</td>\n",
       "      <td>4.38</td>\n",
       "      <td>1.05</td>\n",
       "      <td>3.40</td>\n",
       "      <td>1050.0</td>\n",
       "      <td>0.0</td>\n",
       "    </tr>\n",
       "    <tr>\n",
       "      <th>2</th>\n",
       "      <td>13.16</td>\n",
       "      <td>2.36</td>\n",
       "      <td>2.67</td>\n",
       "      <td>18.6</td>\n",
       "      <td>101.0</td>\n",
       "      <td>2.80</td>\n",
       "      <td>3.24</td>\n",
       "      <td>0.30</td>\n",
       "      <td>2.81</td>\n",
       "      <td>5.68</td>\n",
       "      <td>1.03</td>\n",
       "      <td>3.17</td>\n",
       "      <td>1185.0</td>\n",
       "      <td>0.0</td>\n",
       "    </tr>\n",
       "    <tr>\n",
       "      <th>3</th>\n",
       "      <td>14.37</td>\n",
       "      <td>1.95</td>\n",
       "      <td>2.50</td>\n",
       "      <td>16.8</td>\n",
       "      <td>113.0</td>\n",
       "      <td>3.85</td>\n",
       "      <td>3.49</td>\n",
       "      <td>0.24</td>\n",
       "      <td>2.18</td>\n",
       "      <td>7.80</td>\n",
       "      <td>0.86</td>\n",
       "      <td>3.45</td>\n",
       "      <td>1480.0</td>\n",
       "      <td>0.0</td>\n",
       "    </tr>\n",
       "    <tr>\n",
       "      <th>4</th>\n",
       "      <td>13.24</td>\n",
       "      <td>2.59</td>\n",
       "      <td>2.87</td>\n",
       "      <td>21.0</td>\n",
       "      <td>118.0</td>\n",
       "      <td>2.80</td>\n",
       "      <td>2.69</td>\n",
       "      <td>0.39</td>\n",
       "      <td>1.82</td>\n",
       "      <td>4.32</td>\n",
       "      <td>1.04</td>\n",
       "      <td>2.93</td>\n",
       "      <td>735.0</td>\n",
       "      <td>0.0</td>\n",
       "    </tr>\n",
       "  </tbody>\n",
       "</table>\n",
       "</div>"
      ]
     },
     "execution_count": 142,
     "metadata": {},
     "output_type": "execute_result"
    }
   ],
   "execution_count": 142
  },
  {
   "metadata": {
    "ExecuteTime": {
     "end_time": "2025-04-01T22:13:16.136734Z",
     "start_time": "2025-04-01T22:13:16.102418Z"
    }
   },
   "cell_type": "code",
   "source": "df_wine.tail()",
   "id": "5670202f6a98a81b",
   "outputs": [
    {
     "data": {
      "text/plain": [
       "     alcohol  malic_acid   ash  alcalinity_of_ash  magnesium  total_phenols  \\\n",
       "173    13.71        5.65  2.45               20.5       95.0           1.68   \n",
       "174    13.40        3.91  2.48               23.0      102.0           1.80   \n",
       "175    13.27        4.28  2.26               20.0      120.0           1.59   \n",
       "176    13.17        2.59  2.37               20.0      120.0           1.65   \n",
       "177    14.13        4.10  2.74               24.5       96.0           2.05   \n",
       "\n",
       "     flavanoids  nonflavanoid_phenols  proanthocyanins  color_intensity   hue  \\\n",
       "173        0.61                  0.52             1.06              7.7  0.64   \n",
       "174        0.75                  0.43             1.41              7.3  0.70   \n",
       "175        0.69                  0.43             1.35             10.2  0.59   \n",
       "176        0.68                  0.53             1.46              9.3  0.60   \n",
       "177        0.76                  0.56             1.35              9.2  0.61   \n",
       "\n",
       "     od280/od315_of_diluted_wines  proline  target  \n",
       "173                          1.74    740.0     2.0  \n",
       "174                          1.56    750.0     2.0  \n",
       "175                          1.56    835.0     2.0  \n",
       "176                          1.62    840.0     2.0  \n",
       "177                          1.60    560.0     2.0  "
      ],
      "text/html": [
       "<div>\n",
       "<style scoped>\n",
       "    .dataframe tbody tr th:only-of-type {\n",
       "        vertical-align: middle;\n",
       "    }\n",
       "\n",
       "    .dataframe tbody tr th {\n",
       "        vertical-align: top;\n",
       "    }\n",
       "\n",
       "    .dataframe thead th {\n",
       "        text-align: right;\n",
       "    }\n",
       "</style>\n",
       "<table border=\"1\" class=\"dataframe\">\n",
       "  <thead>\n",
       "    <tr style=\"text-align: right;\">\n",
       "      <th></th>\n",
       "      <th>alcohol</th>\n",
       "      <th>malic_acid</th>\n",
       "      <th>ash</th>\n",
       "      <th>alcalinity_of_ash</th>\n",
       "      <th>magnesium</th>\n",
       "      <th>total_phenols</th>\n",
       "      <th>flavanoids</th>\n",
       "      <th>nonflavanoid_phenols</th>\n",
       "      <th>proanthocyanins</th>\n",
       "      <th>color_intensity</th>\n",
       "      <th>hue</th>\n",
       "      <th>od280/od315_of_diluted_wines</th>\n",
       "      <th>proline</th>\n",
       "      <th>target</th>\n",
       "    </tr>\n",
       "  </thead>\n",
       "  <tbody>\n",
       "    <tr>\n",
       "      <th>173</th>\n",
       "      <td>13.71</td>\n",
       "      <td>5.65</td>\n",
       "      <td>2.45</td>\n",
       "      <td>20.5</td>\n",
       "      <td>95.0</td>\n",
       "      <td>1.68</td>\n",
       "      <td>0.61</td>\n",
       "      <td>0.52</td>\n",
       "      <td>1.06</td>\n",
       "      <td>7.7</td>\n",
       "      <td>0.64</td>\n",
       "      <td>1.74</td>\n",
       "      <td>740.0</td>\n",
       "      <td>2.0</td>\n",
       "    </tr>\n",
       "    <tr>\n",
       "      <th>174</th>\n",
       "      <td>13.40</td>\n",
       "      <td>3.91</td>\n",
       "      <td>2.48</td>\n",
       "      <td>23.0</td>\n",
       "      <td>102.0</td>\n",
       "      <td>1.80</td>\n",
       "      <td>0.75</td>\n",
       "      <td>0.43</td>\n",
       "      <td>1.41</td>\n",
       "      <td>7.3</td>\n",
       "      <td>0.70</td>\n",
       "      <td>1.56</td>\n",
       "      <td>750.0</td>\n",
       "      <td>2.0</td>\n",
       "    </tr>\n",
       "    <tr>\n",
       "      <th>175</th>\n",
       "      <td>13.27</td>\n",
       "      <td>4.28</td>\n",
       "      <td>2.26</td>\n",
       "      <td>20.0</td>\n",
       "      <td>120.0</td>\n",
       "      <td>1.59</td>\n",
       "      <td>0.69</td>\n",
       "      <td>0.43</td>\n",
       "      <td>1.35</td>\n",
       "      <td>10.2</td>\n",
       "      <td>0.59</td>\n",
       "      <td>1.56</td>\n",
       "      <td>835.0</td>\n",
       "      <td>2.0</td>\n",
       "    </tr>\n",
       "    <tr>\n",
       "      <th>176</th>\n",
       "      <td>13.17</td>\n",
       "      <td>2.59</td>\n",
       "      <td>2.37</td>\n",
       "      <td>20.0</td>\n",
       "      <td>120.0</td>\n",
       "      <td>1.65</td>\n",
       "      <td>0.68</td>\n",
       "      <td>0.53</td>\n",
       "      <td>1.46</td>\n",
       "      <td>9.3</td>\n",
       "      <td>0.60</td>\n",
       "      <td>1.62</td>\n",
       "      <td>840.0</td>\n",
       "      <td>2.0</td>\n",
       "    </tr>\n",
       "    <tr>\n",
       "      <th>177</th>\n",
       "      <td>14.13</td>\n",
       "      <td>4.10</td>\n",
       "      <td>2.74</td>\n",
       "      <td>24.5</td>\n",
       "      <td>96.0</td>\n",
       "      <td>2.05</td>\n",
       "      <td>0.76</td>\n",
       "      <td>0.56</td>\n",
       "      <td>1.35</td>\n",
       "      <td>9.2</td>\n",
       "      <td>0.61</td>\n",
       "      <td>1.60</td>\n",
       "      <td>560.0</td>\n",
       "      <td>2.0</td>\n",
       "    </tr>\n",
       "  </tbody>\n",
       "</table>\n",
       "</div>"
      ]
     },
     "execution_count": 143,
     "metadata": {},
     "output_type": "execute_result"
    }
   ],
   "execution_count": 143
  },
  {
   "metadata": {
    "ExecuteTime": {
     "end_time": "2025-04-01T22:13:16.184032Z",
     "start_time": "2025-04-01T22:13:16.136734Z"
    }
   },
   "cell_type": "code",
   "source": "df_wine.describe()",
   "id": "9fb8c1e92bb24d7c",
   "outputs": [
    {
     "data": {
      "text/plain": [
       "          alcohol  malic_acid         ash  alcalinity_of_ash   magnesium  \\\n",
       "count  178.000000  178.000000  178.000000         178.000000  178.000000   \n",
       "mean    13.000618    2.336348    2.366517          19.494944   99.741573   \n",
       "std      0.811827    1.117146    0.274344           3.339564   14.282484   \n",
       "min     11.030000    0.740000    1.360000          10.600000   70.000000   \n",
       "25%     12.362500    1.602500    2.210000          17.200000   88.000000   \n",
       "50%     13.050000    1.865000    2.360000          19.500000   98.000000   \n",
       "75%     13.677500    3.082500    2.557500          21.500000  107.000000   \n",
       "max     14.830000    5.800000    3.230000          30.000000  162.000000   \n",
       "\n",
       "       total_phenols  flavanoids  nonflavanoid_phenols  proanthocyanins  \\\n",
       "count     178.000000  178.000000            178.000000       178.000000   \n",
       "mean        2.295112    2.029270              0.361854         1.590899   \n",
       "std         0.625851    0.998859              0.124453         0.572359   \n",
       "min         0.980000    0.340000              0.130000         0.410000   \n",
       "25%         1.742500    1.205000              0.270000         1.250000   \n",
       "50%         2.355000    2.135000              0.340000         1.555000   \n",
       "75%         2.800000    2.875000              0.437500         1.950000   \n",
       "max         3.880000    5.080000              0.660000         3.580000   \n",
       "\n",
       "       color_intensity         hue  od280/od315_of_diluted_wines      proline  \\\n",
       "count       178.000000  178.000000                    178.000000   178.000000   \n",
       "mean          5.058090    0.957449                      2.611685   746.893258   \n",
       "std           2.318286    0.228572                      0.709990   314.907474   \n",
       "min           1.280000    0.480000                      1.270000   278.000000   \n",
       "25%           3.220000    0.782500                      1.937500   500.500000   \n",
       "50%           4.690000    0.965000                      2.780000   673.500000   \n",
       "75%           6.200000    1.120000                      3.170000   985.000000   \n",
       "max          13.000000    1.710000                      4.000000  1680.000000   \n",
       "\n",
       "           target  \n",
       "count  178.000000  \n",
       "mean     0.938202  \n",
       "std      0.775035  \n",
       "min      0.000000  \n",
       "25%      0.000000  \n",
       "50%      1.000000  \n",
       "75%      2.000000  \n",
       "max      2.000000  "
      ],
      "text/html": [
       "<div>\n",
       "<style scoped>\n",
       "    .dataframe tbody tr th:only-of-type {\n",
       "        vertical-align: middle;\n",
       "    }\n",
       "\n",
       "    .dataframe tbody tr th {\n",
       "        vertical-align: top;\n",
       "    }\n",
       "\n",
       "    .dataframe thead th {\n",
       "        text-align: right;\n",
       "    }\n",
       "</style>\n",
       "<table border=\"1\" class=\"dataframe\">\n",
       "  <thead>\n",
       "    <tr style=\"text-align: right;\">\n",
       "      <th></th>\n",
       "      <th>alcohol</th>\n",
       "      <th>malic_acid</th>\n",
       "      <th>ash</th>\n",
       "      <th>alcalinity_of_ash</th>\n",
       "      <th>magnesium</th>\n",
       "      <th>total_phenols</th>\n",
       "      <th>flavanoids</th>\n",
       "      <th>nonflavanoid_phenols</th>\n",
       "      <th>proanthocyanins</th>\n",
       "      <th>color_intensity</th>\n",
       "      <th>hue</th>\n",
       "      <th>od280/od315_of_diluted_wines</th>\n",
       "      <th>proline</th>\n",
       "      <th>target</th>\n",
       "    </tr>\n",
       "  </thead>\n",
       "  <tbody>\n",
       "    <tr>\n",
       "      <th>count</th>\n",
       "      <td>178.000000</td>\n",
       "      <td>178.000000</td>\n",
       "      <td>178.000000</td>\n",
       "      <td>178.000000</td>\n",
       "      <td>178.000000</td>\n",
       "      <td>178.000000</td>\n",
       "      <td>178.000000</td>\n",
       "      <td>178.000000</td>\n",
       "      <td>178.000000</td>\n",
       "      <td>178.000000</td>\n",
       "      <td>178.000000</td>\n",
       "      <td>178.000000</td>\n",
       "      <td>178.000000</td>\n",
       "      <td>178.000000</td>\n",
       "    </tr>\n",
       "    <tr>\n",
       "      <th>mean</th>\n",
       "      <td>13.000618</td>\n",
       "      <td>2.336348</td>\n",
       "      <td>2.366517</td>\n",
       "      <td>19.494944</td>\n",
       "      <td>99.741573</td>\n",
       "      <td>2.295112</td>\n",
       "      <td>2.029270</td>\n",
       "      <td>0.361854</td>\n",
       "      <td>1.590899</td>\n",
       "      <td>5.058090</td>\n",
       "      <td>0.957449</td>\n",
       "      <td>2.611685</td>\n",
       "      <td>746.893258</td>\n",
       "      <td>0.938202</td>\n",
       "    </tr>\n",
       "    <tr>\n",
       "      <th>std</th>\n",
       "      <td>0.811827</td>\n",
       "      <td>1.117146</td>\n",
       "      <td>0.274344</td>\n",
       "      <td>3.339564</td>\n",
       "      <td>14.282484</td>\n",
       "      <td>0.625851</td>\n",
       "      <td>0.998859</td>\n",
       "      <td>0.124453</td>\n",
       "      <td>0.572359</td>\n",
       "      <td>2.318286</td>\n",
       "      <td>0.228572</td>\n",
       "      <td>0.709990</td>\n",
       "      <td>314.907474</td>\n",
       "      <td>0.775035</td>\n",
       "    </tr>\n",
       "    <tr>\n",
       "      <th>min</th>\n",
       "      <td>11.030000</td>\n",
       "      <td>0.740000</td>\n",
       "      <td>1.360000</td>\n",
       "      <td>10.600000</td>\n",
       "      <td>70.000000</td>\n",
       "      <td>0.980000</td>\n",
       "      <td>0.340000</td>\n",
       "      <td>0.130000</td>\n",
       "      <td>0.410000</td>\n",
       "      <td>1.280000</td>\n",
       "      <td>0.480000</td>\n",
       "      <td>1.270000</td>\n",
       "      <td>278.000000</td>\n",
       "      <td>0.000000</td>\n",
       "    </tr>\n",
       "    <tr>\n",
       "      <th>25%</th>\n",
       "      <td>12.362500</td>\n",
       "      <td>1.602500</td>\n",
       "      <td>2.210000</td>\n",
       "      <td>17.200000</td>\n",
       "      <td>88.000000</td>\n",
       "      <td>1.742500</td>\n",
       "      <td>1.205000</td>\n",
       "      <td>0.270000</td>\n",
       "      <td>1.250000</td>\n",
       "      <td>3.220000</td>\n",
       "      <td>0.782500</td>\n",
       "      <td>1.937500</td>\n",
       "      <td>500.500000</td>\n",
       "      <td>0.000000</td>\n",
       "    </tr>\n",
       "    <tr>\n",
       "      <th>50%</th>\n",
       "      <td>13.050000</td>\n",
       "      <td>1.865000</td>\n",
       "      <td>2.360000</td>\n",
       "      <td>19.500000</td>\n",
       "      <td>98.000000</td>\n",
       "      <td>2.355000</td>\n",
       "      <td>2.135000</td>\n",
       "      <td>0.340000</td>\n",
       "      <td>1.555000</td>\n",
       "      <td>4.690000</td>\n",
       "      <td>0.965000</td>\n",
       "      <td>2.780000</td>\n",
       "      <td>673.500000</td>\n",
       "      <td>1.000000</td>\n",
       "    </tr>\n",
       "    <tr>\n",
       "      <th>75%</th>\n",
       "      <td>13.677500</td>\n",
       "      <td>3.082500</td>\n",
       "      <td>2.557500</td>\n",
       "      <td>21.500000</td>\n",
       "      <td>107.000000</td>\n",
       "      <td>2.800000</td>\n",
       "      <td>2.875000</td>\n",
       "      <td>0.437500</td>\n",
       "      <td>1.950000</td>\n",
       "      <td>6.200000</td>\n",
       "      <td>1.120000</td>\n",
       "      <td>3.170000</td>\n",
       "      <td>985.000000</td>\n",
       "      <td>2.000000</td>\n",
       "    </tr>\n",
       "    <tr>\n",
       "      <th>max</th>\n",
       "      <td>14.830000</td>\n",
       "      <td>5.800000</td>\n",
       "      <td>3.230000</td>\n",
       "      <td>30.000000</td>\n",
       "      <td>162.000000</td>\n",
       "      <td>3.880000</td>\n",
       "      <td>5.080000</td>\n",
       "      <td>0.660000</td>\n",
       "      <td>3.580000</td>\n",
       "      <td>13.000000</td>\n",
       "      <td>1.710000</td>\n",
       "      <td>4.000000</td>\n",
       "      <td>1680.000000</td>\n",
       "      <td>2.000000</td>\n",
       "    </tr>\n",
       "  </tbody>\n",
       "</table>\n",
       "</div>"
      ]
     },
     "execution_count": 144,
     "metadata": {},
     "output_type": "execute_result"
    }
   ],
   "execution_count": 144
  },
  {
   "metadata": {
    "ExecuteTime": {
     "end_time": "2025-04-01T22:13:16.199703Z",
     "start_time": "2025-04-01T22:13:16.184032Z"
    }
   },
   "cell_type": "code",
   "source": "df_wine.isna().sum()",
   "id": "51f1295715c0aa9e",
   "outputs": [
    {
     "data": {
      "text/plain": [
       "alcohol                         0\n",
       "malic_acid                      0\n",
       "ash                             0\n",
       "alcalinity_of_ash               0\n",
       "magnesium                       0\n",
       "total_phenols                   0\n",
       "flavanoids                      0\n",
       "nonflavanoid_phenols            0\n",
       "proanthocyanins                 0\n",
       "color_intensity                 0\n",
       "hue                             0\n",
       "od280/od315_of_diluted_wines    0\n",
       "proline                         0\n",
       "target                          0\n",
       "dtype: int64"
      ]
     },
     "execution_count": 145,
     "metadata": {},
     "output_type": "execute_result"
    }
   ],
   "execution_count": 145
  },
  {
   "metadata": {
    "ExecuteTime": {
     "end_time": "2025-04-01T22:13:16.315131Z",
     "start_time": "2025-04-01T22:13:16.283929Z"
    }
   },
   "cell_type": "code",
   "source": "df_wine.target.value_counts(normalize=True).round(3)",
   "id": "343e240cb2d11ee8",
   "outputs": [
    {
     "data": {
      "text/plain": [
       "target\n",
       "1.0    0.399\n",
       "0.0    0.331\n",
       "2.0    0.270\n",
       "Name: proportion, dtype: float64"
      ]
     },
     "execution_count": 146,
     "metadata": {},
     "output_type": "execute_result"
    }
   ],
   "execution_count": 146
  },
  {
   "metadata": {
    "ExecuteTime": {
     "end_time": "2025-04-01T22:13:16.518963Z",
     "start_time": "2025-04-01T22:13:16.337432Z"
    }
   },
   "cell_type": "code",
   "source": [
    "sns.heatmap(df_wine.iloc[:, :-1].corr())\n",
    "plt.show()"
   ],
   "id": "ec95f6e982dcdcd8",
   "outputs": [
    {
     "data": {
      "text/plain": [
       "<Figure size 640x480 with 2 Axes>"
      ],
      "image/png": "[encoded data removed]"
     },
     "metadata": {},
     "output_type": "display_data"
    }
   ],
   "execution_count": 147
  },
  {
   "metadata": {
    "ExecuteTime": {
     "end_time": "2025-04-01T22:13:16.547026Z",
     "start_time": "2025-04-01T22:13:16.522011Z"
    }
   },
   "cell_type": "code",
   "source": [
    "X = wine.data\n",
    "Y = wine.target"
   ],
   "id": "efc0dd807ddeba5b",
   "outputs": [],
   "execution_count": 148
  },
  {
   "metadata": {
    "ExecuteTime": {
     "end_time": "2025-04-01T22:13:16.637753Z",
     "start_time": "2025-04-01T22:13:16.622086Z"
    }
   },
   "cell_type": "code",
   "source": [
    "standardize = StandardScaler()\n",
    "X_std = standardize.fit_transform(X)"
   ],
   "id": "fd41de997142ef2f",
   "outputs": [],
   "execution_count": 149
  },
  {
   "metadata": {
    "ExecuteTime": {
     "end_time": "2025-04-01T22:13:16.738132Z",
     "start_time": "2025-04-01T22:13:16.700227Z"
    }
   },
   "cell_type": "code",
   "source": "X_train, X_test, Y_train, Y_test = train_test_split(X, Y, random_state=11)",
   "id": "9e1d93dd2212e8b",
   "outputs": [],
   "execution_count": 150
  },
  {
   "metadata": {
    "ExecuteTime": {
     "end_time": "2025-04-01T22:13:16.838352Z",
     "start_time": "2025-04-01T22:13:16.800564Z"
    }
   },
   "cell_type": "code",
   "source": "X_train.shape",
   "id": "daa02122c4bada76",
   "outputs": [
    {
     "data": {
      "text/plain": [
       "(133, 13)"
      ]
     },
     "execution_count": 151,
     "metadata": {},
     "output_type": "execute_result"
    }
   ],
   "execution_count": 151
  },
  {
   "metadata": {
    "ExecuteTime": {
     "end_time": "2025-04-01T22:13:16.921318Z",
     "start_time": "2025-04-01T22:13:16.905681Z"
    }
   },
   "cell_type": "code",
   "source": "X_test.shape",
   "id": "f57124e9c8c94add",
   "outputs": [
    {
     "data": {
      "text/plain": [
       "(45, 13)"
      ]
     },
     "execution_count": 152,
     "metadata": {},
     "output_type": "execute_result"
    }
   ],
   "execution_count": 152
  },
  {
   "metadata": {},
   "cell_type": "markdown",
   "source": "SVC",
   "id": "3b1d8cd57c0a3d88"
  },
  {
   "metadata": {
    "ExecuteTime": {
     "end_time": "2025-04-01T22:13:17.317380Z",
     "start_time": "2025-04-01T22:13:17.009991Z"
    }
   },
   "cell_type": "code",
   "source": "svc = SVC(kernel='linear', C=100, probability=True).fit(X_train, Y_train)",
   "id": "23fed88aaf77bd93",
   "outputs": [],
   "execution_count": 153
  },
  {
   "metadata": {
    "ExecuteTime": {
     "end_time": "2025-04-01T22:13:17.339127Z",
     "start_time": "2025-04-01T22:13:17.317380Z"
    }
   },
   "cell_type": "code",
   "source": [
    "svc_pred = svc.predict(X_test)\n",
    "svc_pred"
   ],
   "id": "d1192a293b4fad9f",
   "outputs": [
    {
     "data": {
      "text/plain": [
       "array([2, 0, 1, 0, 0, 0, 1, 1, 1, 0, 2, 1, 0, 0, 1, 1, 0, 2, 1, 1, 0, 2,\n",
       "       0, 0, 0, 1, 0, 2, 1, 0, 1, 1, 2, 1, 2, 2, 0, 0, 2, 2, 1, 0, 0, 0,\n",
       "       1])"
      ]
     },
     "execution_count": 154,
     "metadata": {},
     "output_type": "execute_result"
    }
   ],
   "execution_count": 154
  },
  {
   "metadata": {
    "ExecuteTime": {
     "end_time": "2025-04-01T22:13:17.354798Z",
     "start_time": "2025-04-01T22:13:17.339127Z"
    }
   },
   "cell_type": "code",
   "source": "svc.predict_proba(X_test)",
   "id": "2f9d3af096dd2225",
   "outputs": [
    {
     "data": {
      "text/plain": [
       "array([[2.03688681e-02, 1.99078291e-02, 9.59723303e-01],\n",
       "       [9.91563134e-01, 4.60157534e-03, 3.83529100e-03],\n",
       "       [2.07183746e-03, 9.95662964e-01, 2.26519892e-03],\n",
       "       [9.90092554e-01, 1.76648175e-03, 8.14096390e-03],\n",
       "       [9.84089987e-01, 2.97329053e-03, 1.29367221e-02],\n",
       "       [9.40245493e-01, 1.81482276e-02, 4.16062795e-02],\n",
       "       [3.96087460e-06, 9.98820155e-01, 1.17588427e-03],\n",
       "       [8.24471510e-03, 9.84551157e-01, 7.20412765e-03],\n",
       "       [9.08860525e-02, 9.03228057e-01, 5.88589012e-03],\n",
       "       [9.99043346e-01, 9.09234742e-06, 9.47561772e-04],\n",
       "       [1.04784443e-01, 4.15873812e-03, 8.91056819e-01],\n",
       "       [3.33800990e-03, 9.94450661e-01, 2.21132942e-03],\n",
       "       [9.46005610e-01, 2.86775873e-02, 2.53168031e-02],\n",
       "       [8.03415453e-01, 1.45996397e-01, 5.05881501e-02],\n",
       "       [3.98678519e-02, 8.87123215e-01, 7.30089332e-02],\n",
       "       [4.49892522e-03, 9.92762886e-01, 2.73818913e-03],\n",
       "       [9.89585062e-01, 1.84904650e-03, 8.56589190e-03],\n",
       "       [1.33514789e-02, 6.59221674e-04, 9.85989299e-01],\n",
       "       [4.71800326e-03, 9.88370073e-01, 6.91192417e-03],\n",
       "       [1.18551654e-03, 9.93288473e-01, 5.52601055e-03],\n",
       "       [9.83347014e-01, 5.81835297e-03, 1.08346331e-02],\n",
       "       [1.19269747e-02, 1.02622698e-03, 9.87046798e-01],\n",
       "       [9.97987986e-01, 5.00414960e-04, 1.51159877e-03],\n",
       "       [9.57405877e-01, 8.10051319e-03, 3.44936093e-02],\n",
       "       [9.55709863e-01, 3.56767442e-02, 8.61339234e-03],\n",
       "       [4.44862179e-02, 8.21628745e-01, 1.33885037e-01],\n",
       "       [9.74221984e-01, 1.05221960e-02, 1.52558202e-02],\n",
       "       [1.49841253e-02, 2.35756877e-01, 7.49258997e-01],\n",
       "       [1.36261231e-05, 9.96229543e-01, 3.75683042e-03],\n",
       "       [9.93626812e-01, 3.26301396e-03, 3.11017361e-03],\n",
       "       [1.14751870e-03, 9.97134636e-01, 1.71784550e-03],\n",
       "       [2.01819988e-03, 9.95591496e-01, 2.39030460e-03],\n",
       "       [2.78629933e-02, 1.35262013e-01, 8.36874994e-01],\n",
       "       [1.18166995e-02, 8.75778915e-01, 1.12404386e-01],\n",
       "       [2.10056563e-02, 2.09055328e-03, 9.76903790e-01],\n",
       "       [3.80401498e-02, 2.60407612e-01, 7.01552238e-01],\n",
       "       [9.75794807e-01, 7.20768748e-03, 1.69975059e-02],\n",
       "       [9.64675249e-01, 1.10086248e-02, 2.43161258e-02],\n",
       "       [6.53665662e-03, 9.91219035e-04, 9.92472124e-01],\n",
       "       [2.27165919e-02, 2.82962683e-03, 9.74453781e-01],\n",
       "       [1.19899623e-07, 9.99728338e-01, 2.71542062e-04],\n",
       "       [9.80546469e-01, 2.47578883e-03, 1.69777421e-02],\n",
       "       [9.83170032e-01, 2.24989472e-03, 1.45800737e-02],\n",
       "       [8.00361519e-01, 1.73798562e-01, 2.58399196e-02],\n",
       "       [2.60357185e-02, 9.70112817e-01, 3.85146419e-03]])"
      ]
     },
     "execution_count": 155,
     "metadata": {},
     "output_type": "execute_result"
    }
   ],
   "execution_count": 155
  },
  {
   "metadata": {},
   "cell_type": "markdown",
   "source": "GaussianNB",
   "id": "5df3a5b50fb2b0da"
  },
  {
   "metadata": {
    "ExecuteTime": {
     "end_time": "2025-04-01T22:13:17.370448Z",
     "start_time": "2025-04-01T22:13:17.354798Z"
    }
   },
   "cell_type": "code",
   "source": "gauss = GaussianNB(var_smoothing=0.1).fit(X_train, Y_train)",
   "id": "71c370617e6f25ac",
   "outputs": [],
   "execution_count": 156
  },
  {
   "metadata": {
    "ExecuteTime": {
     "end_time": "2025-04-01T22:13:17.386039Z",
     "start_time": "2025-04-01T22:13:17.370448Z"
    }
   },
   "cell_type": "code",
   "source": [
    "gauss_pred = gauss.predict(X_test)\n",
    "gauss_pred"
   ],
   "id": "6112564b36de7859",
   "outputs": [
    {
     "data": {
      "text/plain": [
       "array([2, 0, 1, 0, 0, 0, 1, 1, 2, 0, 0, 1, 0, 0, 1, 1, 0, 2, 1, 1, 0, 1,\n",
       "       0, 0, 0, 2, 0, 1, 1, 0, 1, 1, 1, 1, 1, 1, 0, 0, 2, 2, 1, 0, 0, 0,\n",
       "       2])"
      ]
     },
     "execution_count": 157,
     "metadata": {},
     "output_type": "execute_result"
    }
   ],
   "execution_count": 157
  },
  {
   "metadata": {
    "ExecuteTime": {
     "end_time": "2025-04-01T22:13:17.401621Z",
     "start_time": "2025-04-01T22:13:17.386039Z"
    }
   },
   "cell_type": "code",
   "source": "gauss.predict_proba(X_test)",
   "id": "77cf62341b8a0ff3",
   "outputs": [
    {
     "data": {
      "text/plain": [
       "array([[1.02895433e-01, 3.95174397e-01, 5.01930171e-01],\n",
       "       [9.57905146e-01, 1.98964021e-02, 2.21984523e-02],\n",
       "       [1.53909376e-02, 6.90181539e-01, 2.94427524e-01],\n",
       "       [9.99931421e-01, 5.60050732e-05, 1.25743591e-05],\n",
       "       [9.99430233e-01, 4.00156191e-04, 1.69610411e-04],\n",
       "       [9.27137599e-01, 3.33216510e-02, 3.95407503e-02],\n",
       "       [8.21802635e-03, 8.51123807e-01, 1.40658166e-01],\n",
       "       [1.64511592e-02, 6.75388701e-01, 3.08160140e-01],\n",
       "       [7.54322291e-02, 4.28100094e-01, 4.96467677e-01],\n",
       "       [9.99994070e-01, 5.40881613e-06, 5.21008247e-07],\n",
       "       [4.34363619e-01, 2.24055964e-01, 3.41580417e-01],\n",
       "       [1.06210581e-02, 7.84170562e-01, 2.05208380e-01],\n",
       "       [9.27651053e-01, 3.30295714e-02, 3.93193758e-02],\n",
       "       [5.21070050e-01, 1.90790254e-01, 2.88139696e-01],\n",
       "       [4.96847743e-02, 4.76055263e-01, 4.74259963e-01],\n",
       "       [3.55349159e-02, 5.24236970e-01, 4.40228114e-01],\n",
       "       [9.99187296e-01, 5.58346935e-04, 2.54356900e-04],\n",
       "       [9.35890379e-02, 4.04775931e-01, 5.01635031e-01],\n",
       "       [2.45596709e-02, 5.87680531e-01, 3.87759799e-01],\n",
       "       [2.25887845e-02, 6.04394045e-01, 3.73017171e-01],\n",
       "       [9.96431520e-01, 2.15087343e-03, 1.41760668e-03],\n",
       "       [3.48111101e-02, 5.26021704e-01, 4.39167185e-01],\n",
       "       [9.96128563e-01, 2.30072336e-03, 1.57071329e-03],\n",
       "       [9.99413786e-01, 4.13624525e-04, 1.72589185e-04],\n",
       "       [9.27986414e-01, 3.28302529e-02, 3.91833335e-02],\n",
       "       [1.33237892e-01, 3.65554236e-01, 5.01207872e-01],\n",
       "       [8.12574377e-01, 7.86042579e-02, 1.08821365e-01],\n",
       "       [1.76328830e-02, 6.59461181e-01, 3.22905936e-01],\n",
       "       [1.59135610e-02, 6.81956604e-01, 3.02129835e-01],\n",
       "       [9.74856285e-01, 1.25824879e-02, 1.25612270e-02],\n",
       "       [9.46334006e-03, 8.14756120e-01, 1.75780540e-01],\n",
       "       [1.90325967e-02, 6.40274467e-01, 3.40692937e-01],\n",
       "       [2.57354797e-02, 5.78530851e-01, 3.95733669e-01],\n",
       "       [2.39031667e-02, 5.94859826e-01, 3.81237008e-01],\n",
       "       [3.30944800e-02, 5.34555303e-01, 4.32350217e-01],\n",
       "       [4.34972157e-02, 4.93493956e-01, 4.63008828e-01],\n",
       "       [9.38874311e-01, 2.82730524e-02, 3.28526364e-02],\n",
       "       [9.84492587e-01, 8.06822111e-03, 7.43919218e-03],\n",
       "       [5.21556578e-02, 4.69523576e-01, 4.78320766e-01],\n",
       "       [1.71434586e-01, 3.43227962e-01, 4.85337453e-01],\n",
       "       [1.37770210e-02, 7.16936213e-01, 2.69286765e-01],\n",
       "       [9.99702954e-01, 2.19981980e-04, 7.70637752e-05],\n",
       "       [9.99477152e-01, 3.71690157e-04, 1.51157530e-04],\n",
       "       [8.49305857e-01, 6.37287475e-02, 8.69653951e-02],\n",
       "       [5.68695090e-02, 4.59626957e-01, 4.83503534e-01]])"
      ]
     },
     "execution_count": 158,
     "metadata": {},
     "output_type": "execute_result"
    }
   ],
   "execution_count": 158
  },
  {
   "metadata": {},
   "cell_type": "markdown",
   "source": "KNeighborsClassifier",
   "id": "2d6fa1d1ddd7c303"
  },
  {
   "metadata": {
    "ExecuteTime": {
     "end_time": "2025-04-01T22:13:17.415133Z",
     "start_time": "2025-04-01T22:13:17.401621Z"
    }
   },
   "cell_type": "code",
   "source": "knn = KNeighborsClassifier(n_neighbors=5, n_jobs=-1)",
   "id": "123a0dfd85d5ca2",
   "outputs": [],
   "execution_count": 159
  },
  {
   "metadata": {
    "ExecuteTime": {
     "end_time": "2025-04-01T22:13:18.402293Z",
     "start_time": "2025-04-01T22:13:17.415775Z"
    }
   },
   "cell_type": "code",
   "source": [
    "pipe = Pipeline([('standardize', standardize), ('knn', knn)])\n",
    "searchSpace = [{'knn__n_neighbors': [1, 2, 3, 4, 5, 6, 7, 8, 9, 10]}]\n",
    "classifier = GridSearchCV(pipe, searchSpace, cv=5).fit(X_train, Y_train)\n",
    "n_neighbors = classifier.best_estimator_.get_params()[\"knn__n_neighbors\"]\n",
    "n_neighbors"
   ],
   "id": "294180e383d466c8",
   "outputs": [
    {
     "data": {
      "text/plain": [
       "10"
      ]
     },
     "execution_count": 160,
     "metadata": {},
     "output_type": "execute_result"
    }
   ],
   "execution_count": 160
  },
  {
   "metadata": {
    "ExecuteTime": {
     "end_time": "2025-04-01T22:13:18.417829Z",
     "start_time": "2025-04-01T22:13:18.402293Z"
    }
   },
   "cell_type": "code",
   "source": "knn = KNeighborsClassifier(n_neighbors=n_neighbors, n_jobs=-1).fit(X_train, Y_train)",
   "id": "c2fb56b2352eee7b",
   "outputs": [],
   "execution_count": 161
  },
  {
   "metadata": {
    "ExecuteTime": {
     "end_time": "2025-04-01T22:13:18.455738Z",
     "start_time": "2025-04-01T22:13:18.417829Z"
    }
   },
   "cell_type": "code",
   "source": [
    "knn_pred = knn.predict(X_test)\n",
    "knn_pred"
   ],
   "id": "472052dfba42acf9",
   "outputs": [
    {
     "data": {
      "text/plain": [
       "array([1, 0, 1, 0, 0, 0, 1, 1, 2, 0, 0, 1, 0, 0, 2, 2, 0, 1, 1, 1, 0, 2,\n",
       "       0, 0, 0, 2, 0, 1, 1, 0, 1, 1, 1, 2, 2, 2, 0, 0, 2, 2, 1, 0, 0, 0,\n",
       "       2])"
      ]
     },
     "execution_count": 162,
     "metadata": {},
     "output_type": "execute_result"
    }
   ],
   "execution_count": 162
  },
  {
   "metadata": {
    "ExecuteTime": {
     "end_time": "2025-04-01T22:13:18.486956Z",
     "start_time": "2025-04-01T22:13:18.455738Z"
    }
   },
   "cell_type": "code",
   "source": "knn.predict_proba(X_test)",
   "id": "7e89c31dbe24b60f",
   "outputs": [
    {
     "data": {
      "text/plain": [
       "array([[0.1, 0.6, 0.3],\n",
       "       [1. , 0. , 0. ],\n",
       "       [0. , 0.8, 0.2],\n",
       "       [1. , 0. , 0. ],\n",
       "       [1. , 0. , 0. ],\n",
       "       [1. , 0. , 0. ],\n",
       "       [0. , 1. , 0. ],\n",
       "       [0. , 0.8, 0.2],\n",
       "       [0. , 0.4, 0.6],\n",
       "       [1. , 0. , 0. ],\n",
       "       [0.4, 0.2, 0.4],\n",
       "       [0. , 1. , 0. ],\n",
       "       [1. , 0. , 0. ],\n",
       "       [0.5, 0.2, 0.3],\n",
       "       [0. , 0.2, 0.8],\n",
       "       [0. , 0.4, 0.6],\n",
       "       [1. , 0. , 0. ],\n",
       "       [0.1, 0.5, 0.4],\n",
       "       [0. , 0.7, 0.3],\n",
       "       [0. , 0.8, 0.2],\n",
       "       [1. , 0. , 0. ],\n",
       "       [0. , 0.4, 0.6],\n",
       "       [1. , 0. , 0. ],\n",
       "       [1. , 0. , 0. ],\n",
       "       [1. , 0. , 0. ],\n",
       "       [0.2, 0.3, 0.5],\n",
       "       [0.9, 0.1, 0. ],\n",
       "       [0. , 0.7, 0.3],\n",
       "       [0. , 0.8, 0.2],\n",
       "       [1. , 0. , 0. ],\n",
       "       [0. , 1. , 0. ],\n",
       "       [0. , 0.7, 0.3],\n",
       "       [0. , 0.5, 0.5],\n",
       "       [0. , 0.4, 0.6],\n",
       "       [0. , 0.4, 0.6],\n",
       "       [0. , 0.4, 0.6],\n",
       "       [1. , 0. , 0. ],\n",
       "       [1. , 0. , 0. ],\n",
       "       [0. , 0.3, 0.7],\n",
       "       [0.3, 0.2, 0.5],\n",
       "       [0. , 0.9, 0.1],\n",
       "       [1. , 0. , 0. ],\n",
       "       [1. , 0. , 0. ],\n",
       "       [0.9, 0.1, 0. ],\n",
       "       [0. , 0.3, 0.7]])"
      ]
     },
     "execution_count": 163,
     "metadata": {},
     "output_type": "execute_result"
    }
   ],
   "execution_count": 163
  },
  {
   "metadata": {},
   "cell_type": "markdown",
   "source": "Confusion matrices",
   "id": "b8df769e5c6710b0"
  },
  {
   "metadata": {
    "ExecuteTime": {
     "end_time": "2025-04-01T22:13:18.502624Z",
     "start_time": "2025-04-01T22:13:18.486956Z"
    }
   },
   "cell_type": "code",
   "source": [
    "svc_cm = confusion_matrix(Y_test, svc_pred)\n",
    "svc_cm"
   ],
   "id": "76230fc157b731a2",
   "outputs": [
    {
     "data": {
      "text/plain": [
       "array([[18,  0,  0],\n",
       "       [ 1, 16,  1],\n",
       "       [ 0,  0,  9]])"
      ]
     },
     "execution_count": 164,
     "metadata": {},
     "output_type": "execute_result"
    }
   ],
   "execution_count": 164
  },
  {
   "metadata": {
    "ExecuteTime": {
     "end_time": "2025-04-01T22:13:18.518175Z",
     "start_time": "2025-04-01T22:13:18.502624Z"
    }
   },
   "cell_type": "code",
   "source": [
    "gauss_cm = confusion_matrix(Y_test, gauss_pred)\n",
    "gauss_cm"
   ],
   "id": "16de1c8681f0e155",
   "outputs": [
    {
     "data": {
      "text/plain": [
       "array([[18,  0,  0],\n",
       "       [ 1, 14,  3],\n",
       "       [ 1,  4,  4]])"
      ]
     },
     "execution_count": 165,
     "metadata": {},
     "output_type": "execute_result"
    }
   ],
   "execution_count": 165
  },
  {
   "metadata": {
    "ExecuteTime": {
     "end_time": "2025-04-01T22:13:18.527858Z",
     "start_time": "2025-04-01T22:13:18.520590Z"
    }
   },
   "cell_type": "code",
   "source": [
    "knn_cm = confusion_matrix(Y_test, knn_pred)\n",
    "knn_cm"
   ],
   "id": "d7c4f68bf32a5810",
   "outputs": [
    {
     "data": {
      "text/plain": [
       "array([[18,  0,  0],\n",
       "       [ 1, 11,  6],\n",
       "       [ 1,  3,  5]])"
      ]
     },
     "execution_count": 166,
     "metadata": {},
     "output_type": "execute_result"
    }
   ],
   "execution_count": 166
  },
  {
   "metadata": {},
   "cell_type": "markdown",
   "source": "Classification Report (stats)",
   "id": "ae9c6e2414f5c02d"
  },
  {
   "metadata": {
    "ExecuteTime": {
     "end_time": "2025-04-01T22:13:18.543574Z",
     "start_time": "2025-04-01T22:13:18.527858Z"
    }
   },
   "cell_type": "code",
   "source": "print(classification_report(Y_test, svc_pred))",
   "id": "ed1bedcbc83f7e5a",
   "outputs": [
    {
     "name": "stdout",
     "output_type": "stream",
     "text": [
      "              precision    recall  f1-score   support\n",
      "\n",
      "           0       0.95      1.00      0.97        18\n",
      "           1       1.00      0.89      0.94        18\n",
      "           2       0.90      1.00      0.95         9\n",
      "\n",
      "    accuracy                           0.96        45\n",
      "   macro avg       0.95      0.96      0.95        45\n",
      "weighted avg       0.96      0.96      0.96        45\n",
      "\n"
     ]
    }
   ],
   "execution_count": 167
  },
  {
   "metadata": {
    "ExecuteTime": {
     "end_time": "2025-04-01T22:13:18.567309Z",
     "start_time": "2025-04-01T22:13:18.543574Z"
    }
   },
   "cell_type": "code",
   "source": "print(classification_report(Y_test, gauss_pred))",
   "id": "3ffeebbfcde16f2c",
   "outputs": [
    {
     "name": "stdout",
     "output_type": "stream",
     "text": [
      "              precision    recall  f1-score   support\n",
      "\n",
      "           0       0.90      1.00      0.95        18\n",
      "           1       0.78      0.78      0.78        18\n",
      "           2       0.57      0.44      0.50         9\n",
      "\n",
      "    accuracy                           0.80        45\n",
      "   macro avg       0.75      0.74      0.74        45\n",
      "weighted avg       0.79      0.80      0.79        45\n",
      "\n"
     ]
    }
   ],
   "execution_count": 168
  },
  {
   "metadata": {
    "ExecuteTime": {
     "end_time": "2025-04-01T22:13:18.582872Z",
     "start_time": "2025-04-01T22:13:18.567309Z"
    }
   },
   "cell_type": "code",
   "source": "print(classification_report(Y_test, knn_pred))",
   "id": "3e06ded7ba9ca01e",
   "outputs": [
    {
     "name": "stdout",
     "output_type": "stream",
     "text": [
      "              precision    recall  f1-score   support\n",
      "\n",
      "           0       0.90      1.00      0.95        18\n",
      "           1       0.79      0.61      0.69        18\n",
      "           2       0.45      0.56      0.50         9\n",
      "\n",
      "    accuracy                           0.76        45\n",
      "   macro avg       0.71      0.72      0.71        45\n",
      "weighted avg       0.77      0.76      0.75        45\n",
      "\n"
     ]
    }
   ],
   "execution_count": 169
  }
 ],
 "metadata": {
  "kernelspec": {
   "display_name": "Python 3",
   "language": "python",
   "name": "python3"
  },
  "language_info": {
   "codemirror_mode": {
    "name": "ipython",
    "version": 2
   },
   "file_extension": ".py",
   "mimetype": "text/x-python",
   "name": "python",
   "nbconvert_exporter": "python",
   "pygments_lexer": "ipython2",
   "version": "2.7.6"
  }
 },
 "nbformat": 4,
 "nbformat_minor": 5
}
