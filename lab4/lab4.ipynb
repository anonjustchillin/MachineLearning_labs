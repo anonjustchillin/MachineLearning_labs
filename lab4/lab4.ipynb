{
 "cells": [
  {
   "cell_type": "code",
   "id": "initial_id",
   "metadata": {
    "collapsed": true,
    "ExecuteTime": {
     "end_time": "2025-04-03T13:33:48.716725Z",
     "start_time": "2025-04-03T13:33:48.701126Z"
    }
   },
   "source": [
    "import pandas as pd\n",
    "import numpy as np\n",
    "import matplotlib.pyplot as plt\n",
    "import matplotlib.cm as cm\n",
    "\n",
    "from sklearn.svm import SVC\n",
    "from sklearn.naive_bayes import GaussianNB\n",
    "from sklearn.neighbors import KNeighborsClassifier\n",
    "\n",
    "from sklearn.preprocessing import StandardScaler\n",
    "from sklearn.model_selection import train_test_split, GridSearchCV\n",
    "from sklearn.pipeline import Pipeline\n",
    "\n",
    "from sklearn.metrics import confusion_matrix, classification_report, accuracy_score"
   ],
   "outputs": [],
   "execution_count": 99
  },
  {
   "metadata": {
    "ExecuteTime": {
     "end_time": "2025-04-03T13:33:49.255617Z",
     "start_time": "2025-04-03T13:33:49.171303Z"
    }
   },
   "cell_type": "code",
   "source": [
    "from sklearn.datasets import load_digits\n",
    "digits = load_digits()\n",
    "\n",
    "print(digits.DESCR)"
   ],
   "id": "74f633868dafde8d",
   "outputs": [
    {
     "name": "stdout",
     "output_type": "stream",
     "text": [
      ".. _digits_dataset:\n",
      "\n",
      "Optical recognition of handwritten digits dataset\n",
      "--------------------------------------------------\n",
      "\n",
      "**Data Set Characteristics:**\n",
      "\n",
      ":Number of Instances: 1797\n",
      ":Number of Attributes: 64\n",
      ":Attribute Information: 8x8 image of integer pixels in the range 0..16.\n",
      ":Missing Attribute Values: None\n",
      ":Creator: E. Alpaydin (alpaydin '@' boun.edu.tr)\n",
      ":Date: July; 1998\n",
      "\n",
      "This is a copy of the test set of the UCI ML hand-written digits datasets\n",
      "https://archive.ics.uci.edu/ml/datasets/Optical+Recognition+of+Handwritten+Digits\n",
      "\n",
      "The data set contains images of hand-written digits: 10 classes where\n",
      "each class refers to a digit.\n",
      "\n",
      "Preprocessing programs made available by NIST were used to extract\n",
      "normalized bitmaps of handwritten digits from a preprinted form. From a\n",
      "total of 43 people, 30 contributed to the training set and different 13\n",
      "to the test set. 32x32 bitmaps are divided into nonoverlapping blocks of\n",
      "4x4 and the number of on pixels are counted in each block. This generates\n",
      "an input matrix of 8x8 where each element is an integer in the range\n",
      "0..16. This reduces dimensionality and gives invariance to small\n",
      "distortions.\n",
      "\n",
      "For info on NIST preprocessing routines, see M. D. Garris, J. L. Blue, G.\n",
      "T. Candela, D. L. Dimmick, J. Geist, P. J. Grother, S. A. Janet, and C.\n",
      "L. Wilson, NIST Form-Based Handprint Recognition System, NISTIR 5469,\n",
      "1994.\n",
      "\n",
      ".. dropdown:: References\n",
      "\n",
      "  - C. Kaynak (1995) Methods of Combining Multiple Classifiers and Their\n",
      "    Applications to Handwritten Digit Recognition, MSc Thesis, Institute of\n",
      "    Graduate Studies in Science and Engineering, Bogazici University.\n",
      "  - E. Alpaydin, C. Kaynak (1998) Cascading Classifiers, Kybernetika.\n",
      "  - Ken Tang and Ponnuthurai N. Suganthan and Xi Yao and A. Kai Qin.\n",
      "    Linear dimensionalityreduction using relevance weighted LDA. School of\n",
      "    Electrical and Electronic Engineering Nanyang Technological University.\n",
      "    2005.\n",
      "  - Claudio Gentile. A New Approximate Maximal Margin Classification\n",
      "    Algorithm. NIPS. 2000.\n",
      "\n"
     ]
    }
   ],
   "execution_count": 100
  },
  {
   "metadata": {
    "ExecuteTime": {
     "end_time": "2025-04-03T13:33:49.371381Z",
     "start_time": "2025-04-03T13:33:49.255617Z"
    }
   },
   "cell_type": "code",
   "source": [
    "arr = [range(0, 17)]\n",
    "plt.imshow(arr, cmap='gray')\n",
    "plt.yticks([])\n",
    "plt.show()"
   ],
   "id": "ff2793718d847a8c",
   "outputs": [
    {
     "data": {
      "text/plain": [
       "<Figure size 640x480 with 1 Axes>"
      ],
      "image/png": "[encoded data removed]"
     },
     "metadata": {},
     "output_type": "display_data"
    }
   ],
   "execution_count": 101
  },
  {
   "metadata": {
    "ExecuteTime": {
     "end_time": "2025-04-03T13:33:49.397922Z",
     "start_time": "2025-04-03T13:33:49.371381Z"
    }
   },
   "cell_type": "code",
   "source": "digits.target[::100]",
   "id": "820fd9acfd93919d",
   "outputs": [
    {
     "data": {
      "text/plain": [
       "array([0, 4, 1, 7, 4, 8, 2, 2, 4, 4, 1, 9, 7, 3, 2, 1, 2, 5])"
      ]
     },
     "execution_count": 102,
     "metadata": {},
     "output_type": "execute_result"
    }
   ],
   "execution_count": 102
  },
  {
   "metadata": {
    "ExecuteTime": {
     "end_time": "2025-04-03T13:33:49.455490Z",
     "start_time": "2025-04-03T13:33:49.429292Z"
    }
   },
   "cell_type": "code",
   "source": "digits.data.shape",
   "id": "a00efcef8907fdb1",
   "outputs": [
    {
     "data": {
      "text/plain": [
       "(1797, 64)"
      ]
     },
     "execution_count": 103,
     "metadata": {},
     "output_type": "execute_result"
    }
   ],
   "execution_count": 103
  },
  {
   "metadata": {
    "ExecuteTime": {
     "end_time": "2025-04-03T13:33:49.671297Z",
     "start_time": "2025-04-03T13:33:49.640028Z"
    }
   },
   "cell_type": "code",
   "source": "digits.target.shape",
   "id": "4296760cb71ce153",
   "outputs": [
    {
     "data": {
      "text/plain": [
       "(1797,)"
      ]
     },
     "execution_count": 104,
     "metadata": {},
     "output_type": "execute_result"
    }
   ],
   "execution_count": 104
  },
  {
   "metadata": {},
   "cell_type": "markdown",
   "source": "Двовимірний масив, що представляє зображення зразка 13",
   "id": "42b8175d64601467"
  },
  {
   "metadata": {
    "ExecuteTime": {
     "end_time": "2025-04-03T13:33:49.856159Z",
     "start_time": "2025-04-03T13:33:49.823194Z"
    }
   },
   "cell_type": "code",
   "source": "digits.images[13]",
   "id": "8cd8f3305dd151ed",
   "outputs": [
    {
     "data": {
      "text/plain": [
       "array([[ 0.,  2.,  9., 15., 14.,  9.,  3.,  0.],\n",
       "       [ 0.,  4., 13.,  8.,  9., 16.,  8.,  0.],\n",
       "       [ 0.,  0.,  0.,  6., 14., 15.,  3.,  0.],\n",
       "       [ 0.,  0.,  0., 11., 14.,  2.,  0.,  0.],\n",
       "       [ 0.,  0.,  0.,  2., 15., 11.,  0.,  0.],\n",
       "       [ 0.,  0.,  0.,  0.,  2., 15.,  4.,  0.],\n",
       "       [ 0.,  1.,  5.,  6., 13., 16.,  6.,  0.],\n",
       "       [ 0.,  2., 12., 12., 13., 11.,  0.,  0.]])"
      ]
     },
     "execution_count": 105,
     "metadata": {},
     "output_type": "execute_result"
    }
   ],
   "execution_count": 105
  },
  {
   "metadata": {},
   "cell_type": "markdown",
   "source": "Одновимірний масив, що представляє зображення зразка 13",
   "id": "49e1eedf2ed14d0"
  },
  {
   "metadata": {
    "ExecuteTime": {
     "end_time": "2025-04-03T13:33:49.871787Z",
     "start_time": "2025-04-03T13:33:49.856159Z"
    }
   },
   "cell_type": "code",
   "source": "digits.data[13]",
   "id": "76143a71d2dbf44a",
   "outputs": [
    {
     "data": {
      "text/plain": [
       "array([ 0.,  2.,  9., 15., 14.,  9.,  3.,  0.,  0.,  4., 13.,  8.,  9.,\n",
       "       16.,  8.,  0.,  0.,  0.,  0.,  6., 14., 15.,  3.,  0.,  0.,  0.,\n",
       "        0., 11., 14.,  2.,  0.,  0.,  0.,  0.,  0.,  2., 15., 11.,  0.,\n",
       "        0.,  0.,  0.,  0.,  0.,  2., 15.,  4.,  0.,  0.,  1.,  5.,  6.,\n",
       "       13., 16.,  6.,  0.,  0.,  2., 12., 12., 13., 11.,  0.,  0.])"
      ]
     },
     "execution_count": 106,
     "metadata": {},
     "output_type": "execute_result"
    }
   ],
   "execution_count": 106
  },
  {
   "metadata": {
    "ExecuteTime": {
     "end_time": "2025-04-03T13:33:49.949295Z",
     "start_time": "2025-04-03T13:33:49.934191Z"
    }
   },
   "cell_type": "code",
   "source": [
    "def plot_digits(row, col):\n",
    "    fig, axes = plt.subplots(nrows=row, ncols=col, figsize=(col, row))\n",
    "    for item in zip(axes.ravel(), digits.images, digits.target):\n",
    "        axes, image, target = item\n",
    "        axes.imshow(image, cmap='gray_r')\n",
    "        \n",
    "        axes.set_xticks([])\n",
    "        axes.set_yticks([])\n",
    "        \n",
    "        axes.set_title(target)\n",
    "    \n",
    "    plt.tight_layout()"
   ],
   "id": "e3dfab755ae52ddc",
   "outputs": [],
   "execution_count": 107
  },
  {
   "metadata": {
    "ExecuteTime": {
     "end_time": "2025-04-03T13:33:51.960581Z",
     "start_time": "2025-04-03T13:33:50.056280Z"
    }
   },
   "cell_type": "code",
   "source": "plot_digits(4, 6)",
   "id": "b2bbc064e9a8ce22",
   "outputs": [
    {
     "data": {
      "text/plain": [
       "<Figure size 600x400 with 24 Axes>"
      ],
      "image/png": "[encoded data removed]"
     },
     "metadata": {},
     "output_type": "display_data"
    }
   ],
   "execution_count": 108
  },
  {
   "metadata": {
    "ExecuteTime": {
     "end_time": "2025-04-03T13:33:53.936499Z",
     "start_time": "2025-04-03T13:33:51.960581Z"
    }
   },
   "cell_type": "code",
   "source": "plot_digits(6, 6)",
   "id": "3ec90ee84fe28bf2",
   "outputs": [
    {
     "data": {
      "text/plain": [
       "<Figure size 600x600 with 36 Axes>"
      ],
      "image/png": "[encoded data removed]"
     },
     "metadata": {},
     "output_type": "display_data"
    }
   ],
   "execution_count": 109
  },
  {
   "metadata": {},
   "cell_type": "markdown",
   "source": "Готуємо дані для моделей",
   "id": "24b24eb72dc8781c"
  },
  {
   "metadata": {
    "ExecuteTime": {
     "end_time": "2025-04-03T13:33:53.952072Z",
     "start_time": "2025-04-03T13:33:53.936499Z"
    }
   },
   "cell_type": "code",
   "source": [
    "X = digits.data\n",
    "y = digits.target\n",
    "X_train, X_test, y_train, y_test = train_test_split(X, y, random_state=11, test_size=0.20)"
   ],
   "id": "d367cec99675584c",
   "outputs": [],
   "execution_count": 110
  },
  {
   "metadata": {
    "ExecuteTime": {
     "end_time": "2025-04-03T13:33:53.967695Z",
     "start_time": "2025-04-03T13:33:53.952072Z"
    }
   },
   "cell_type": "code",
   "source": "X_train.shape",
   "id": "4c54eb2341569245",
   "outputs": [
    {
     "data": {
      "text/plain": [
       "(1437, 64)"
      ]
     },
     "execution_count": 111,
     "metadata": {},
     "output_type": "execute_result"
    }
   ],
   "execution_count": 111
  },
  {
   "metadata": {
    "ExecuteTime": {
     "end_time": "2025-04-03T13:33:53.983312Z",
     "start_time": "2025-04-03T13:33:53.967695Z"
    }
   },
   "cell_type": "code",
   "source": "X_test.shape",
   "id": "9fd4f37fe1a8e7e3",
   "outputs": [
    {
     "data": {
      "text/plain": [
       "(360, 64)"
      ]
     },
     "execution_count": 112,
     "metadata": {},
     "output_type": "execute_result"
    }
   ],
   "execution_count": 112
  },
  {
   "metadata": {
    "ExecuteTime": {
     "end_time": "2025-04-03T13:33:54.012612Z",
     "start_time": "2025-04-03T13:33:53.983312Z"
    }
   },
   "cell_type": "code",
   "source": [
    "nums = [str(digit) for digit in digits.target_names]\n",
    "nums"
   ],
   "id": "3f42d5a6f880e4db",
   "outputs": [
    {
     "data": {
      "text/plain": [
       "['0', '1', '2', '3', '4', '5', '6', '7', '8', '9']"
      ]
     },
     "execution_count": 113,
     "metadata": {},
     "output_type": "execute_result"
    }
   ],
   "execution_count": 113
  },
  {
   "metadata": {},
   "cell_type": "markdown",
   "source": "KNeighborsClassifier",
   "id": "b0c0369207bc175a"
  },
  {
   "metadata": {
    "ExecuteTime": {
     "end_time": "2025-04-03T13:33:54.028161Z",
     "start_time": "2025-04-03T13:33:54.012612Z"
    }
   },
   "cell_type": "code",
   "source": "knn = KNeighborsClassifier().fit(X_train, y_train)",
   "id": "f34f3391c685a796",
   "outputs": [],
   "execution_count": 114
  },
  {
   "metadata": {
    "ExecuteTime": {
     "end_time": "2025-04-03T13:33:54.059372Z",
     "start_time": "2025-04-03T13:33:54.028161Z"
    }
   },
   "cell_type": "code",
   "source": [
    "predicted = knn.predict(X=X_test)\n",
    "expected = y_test"
   ],
   "id": "65d234242064d8c1",
   "outputs": [],
   "execution_count": 115
  },
  {
   "metadata": {
    "ExecuteTime": {
     "end_time": "2025-04-03T13:33:54.075Z",
     "start_time": "2025-04-03T13:33:54.059372Z"
    }
   },
   "cell_type": "code",
   "source": "predicted[:36]",
   "id": "73f7ae22f83f7d12",
   "outputs": [
    {
     "data": {
      "text/plain": [
       "array([0, 4, 9, 9, 3, 1, 4, 1, 5, 0, 4, 9, 4, 1, 5, 3, 3, 8, 5, 6, 9, 6,\n",
       "       0, 6, 9, 3, 2, 1, 8, 1, 7, 0, 4, 4, 1, 5])"
      ]
     },
     "execution_count": 116,
     "metadata": {},
     "output_type": "execute_result"
    }
   ],
   "execution_count": 116
  },
  {
   "metadata": {
    "ExecuteTime": {
     "end_time": "2025-04-03T13:33:54.090626Z",
     "start_time": "2025-04-03T13:33:54.075Z"
    }
   },
   "cell_type": "code",
   "source": "expected[:36]",
   "id": "dc32575507a30f97",
   "outputs": [
    {
     "data": {
      "text/plain": [
       "array([0, 4, 9, 9, 3, 1, 4, 1, 5, 0, 4, 9, 4, 1, 5, 3, 3, 8, 3, 6, 9, 6,\n",
       "       0, 6, 9, 3, 2, 1, 8, 1, 7, 0, 4, 4, 1, 5])"
      ]
     },
     "execution_count": 117,
     "metadata": {},
     "output_type": "execute_result"
    }
   ],
   "execution_count": 117
  },
  {
   "metadata": {
    "ExecuteTime": {
     "end_time": "2025-04-03T13:33:54.128479Z",
     "start_time": "2025-04-03T13:33:54.090626Z"
    }
   },
   "cell_type": "code",
   "source": "print(f'{knn.score(X_test, y_test):.4%}')",
   "id": "c3e241340ccbcdba",
   "outputs": [
    {
     "name": "stdout",
     "output_type": "stream",
     "text": [
      "98.6111%\n"
     ]
    }
   ],
   "execution_count": 118
  },
  {
   "metadata": {
    "ExecuteTime": {
     "end_time": "2025-04-03T13:33:54.144099Z",
     "start_time": "2025-04-03T13:33:54.128479Z"
    }
   },
   "cell_type": "code",
   "source": [
    "knn_conf = confusion_matrix(y_true=expected, y_pred=predicted)\n",
    "knn_conf"
   ],
   "id": "cb55a550de0226c6",
   "outputs": [
    {
     "data": {
      "text/plain": [
       "array([[38,  0,  0,  0,  0,  0,  0,  0,  0,  0],\n",
       "       [ 0, 37,  0,  0,  0,  0,  0,  0,  0,  0],\n",
       "       [ 0,  0, 39,  0,  0,  0,  0,  0,  0,  0],\n",
       "       [ 0,  0,  0, 39,  0,  1,  0,  1,  0,  0],\n",
       "       [ 0,  0,  0,  0, 40,  0,  0,  1,  0,  0],\n",
       "       [ 0,  0,  0,  0,  0, 27,  0,  0,  0,  0],\n",
       "       [ 0,  0,  0,  0,  0,  0, 30,  0,  0,  0],\n",
       "       [ 0,  0,  0,  0,  0,  0,  0, 36,  0,  0],\n",
       "       [ 0,  0,  0,  0,  0,  0,  0,  0, 34,  0],\n",
       "       [ 0,  0,  0,  0,  1,  0,  0,  0,  1, 35]])"
      ]
     },
     "execution_count": 119,
     "metadata": {},
     "output_type": "execute_result"
    }
   ],
   "execution_count": 119
  },
  {
   "metadata": {
    "ExecuteTime": {
     "end_time": "2025-04-03T13:33:54.175312Z",
     "start_time": "2025-04-03T13:33:54.144099Z"
    }
   },
   "cell_type": "code",
   "source": "print(classification_report(expected, predicted, target_names=nums))",
   "id": "6f09b68c1fceb573",
   "outputs": [
    {
     "name": "stdout",
     "output_type": "stream",
     "text": [
      "              precision    recall  f1-score   support\n",
      "\n",
      "           0       1.00      1.00      1.00        38\n",
      "           1       1.00      1.00      1.00        37\n",
      "           2       1.00      1.00      1.00        39\n",
      "           3       1.00      0.95      0.97        41\n",
      "           4       0.98      0.98      0.98        41\n",
      "           5       0.96      1.00      0.98        27\n",
      "           6       1.00      1.00      1.00        30\n",
      "           7       0.95      1.00      0.97        36\n",
      "           8       0.97      1.00      0.99        34\n",
      "           9       1.00      0.95      0.97        37\n",
      "\n",
      "    accuracy                           0.99       360\n",
      "   macro avg       0.99      0.99      0.99       360\n",
      "weighted avg       0.99      0.99      0.99       360\n",
      "\n"
     ]
    }
   ],
   "execution_count": 120
  },
  {
   "metadata": {
    "ExecuteTime": {
     "end_time": "2025-04-03T13:33:54.190940Z",
     "start_time": "2025-04-03T13:33:54.175312Z"
    }
   },
   "cell_type": "code",
   "source": "del predicted, expected, knn_conf, knn",
   "id": "8b95b1785bb89654",
   "outputs": [],
   "execution_count": 121
  },
  {
   "metadata": {},
   "cell_type": "markdown",
   "source": "Гіперпараметр K",
   "id": "b67e9fb8b064cceb"
  },
  {
   "metadata": {
    "ExecuteTime": {
     "end_time": "2025-04-03T13:33:54.213103Z",
     "start_time": "2025-04-03T13:33:54.190940Z"
    }
   },
   "cell_type": "code",
   "source": "n = range(1, 21)",
   "id": "b559562738fdb19b",
   "outputs": [],
   "execution_count": 122
  },
  {
   "metadata": {
    "ExecuteTime": {
     "end_time": "2025-04-03T13:33:54.638413Z",
     "start_time": "2025-04-03T13:33:54.213103Z"
    }
   },
   "cell_type": "code",
   "source": [
    "accuracy = []\n",
    "for i in n:\n",
    "    knn = (KNeighborsClassifier(n_neighbors=i)\n",
    "           .fit(X_train, y_train))\n",
    "    y_pred = knn.predict(X_test)\n",
    "    accuracy.append(accuracy_score(y_test, y_pred))"
   ],
   "id": "bed7a0a7b84ca4c",
   "outputs": [],
   "execution_count": 123
  },
  {
   "metadata": {
    "ExecuteTime": {
     "end_time": "2025-04-03T13:33:54.844952Z",
     "start_time": "2025-04-03T13:33:54.638413Z"
    }
   },
   "cell_type": "code",
   "source": [
    "plt.plot(n,\n",
    "         accuracy,\n",
    "         linestyle='dashed',\n",
    "         marker='o',\n",
    "         markerfacecolor='red')\n",
    "plt.title('Accuracy vs n_neighbors')\n",
    "plt.grid()\n",
    "plt.show()"
   ],
   "id": "34f7f471b80c3b8c",
   "outputs": [
    {
     "data": {
      "text/plain": [
       "<Figure size 640x480 with 1 Axes>"
      ],
      "image/png": "[encoded data removed]"
     },
     "metadata": {},
     "output_type": "display_data"
    }
   ],
   "execution_count": 124
  },
  {
   "metadata": {
    "ExecuteTime": {
     "end_time": "2025-04-03T13:34:31.912507Z",
     "start_time": "2025-04-03T13:34:31.896936Z"
    }
   },
   "cell_type": "code",
   "source": [
    "low_k = accuracy.index(min(accuracy))+1\n",
    "print(f\"Min accuracy ({min(accuracy):.4f}), when n_neighbors = {low_k}\")"
   ],
   "id": "78ff58047835a2fd",
   "outputs": [
    {
     "name": "stdout",
     "output_type": "stream",
     "text": [
      "Min accuracy (0.9722), when n_neighbors = 18\n"
     ]
    }
   ],
   "execution_count": 152
  },
  {
   "metadata": {
    "ExecuteTime": {
     "end_time": "2025-04-03T13:34:33.502017Z",
     "start_time": "2025-04-03T13:34:33.486372Z"
    }
   },
   "cell_type": "code",
   "source": [
    "high_k = accuracy.index(max(accuracy))+1\n",
    "print(f\"Max accuracy ({max(accuracy):.4f}), when n_neighbors = {high_k}\")"
   ],
   "id": "b62d1e3e106806ee",
   "outputs": [
    {
     "name": "stdout",
     "output_type": "stream",
     "text": [
      "Max accuracy (0.9944), when n_neighbors = 2\n"
     ]
    }
   ],
   "execution_count": 153
  },
  {
   "metadata": {
    "ExecuteTime": {
     "end_time": "2025-04-03T13:34:37.517739Z",
     "start_time": "2025-04-03T13:34:37.486517Z"
    }
   },
   "cell_type": "code",
   "source": [
    "knn = KNeighborsClassifier(n_neighbors=high_k).fit(X_train, y_train)\n",
    "predicted = knn.predict(X=X_test)\n",
    "expected = y_test"
   ],
   "id": "34766865bf37d8fd",
   "outputs": [],
   "execution_count": 154
  },
  {
   "metadata": {
    "ExecuteTime": {
     "end_time": "2025-04-03T13:34:38.356792Z",
     "start_time": "2025-04-03T13:34:38.325524Z"
    }
   },
   "cell_type": "code",
   "source": "print(f'{knn.score(X_test, y_test):.4%}')",
   "id": "58a3b0b7bda141fe",
   "outputs": [
    {
     "name": "stdout",
     "output_type": "stream",
     "text": [
      "99.4444%\n"
     ]
    }
   ],
   "execution_count": 155
  },
  {
   "metadata": {
    "ExecuteTime": {
     "end_time": "2025-04-03T13:34:39.279096Z",
     "start_time": "2025-04-03T13:34:39.250570Z"
    }
   },
   "cell_type": "code",
   "source": [
    "knn_conf = confusion_matrix(y_true=expected, y_pred=predicted)\n",
    "knn_conf"
   ],
   "id": "72a844bc347d270e",
   "outputs": [
    {
     "data": {
      "text/plain": [
       "array([[38,  0,  0,  0,  0,  0,  0,  0,  0,  0],\n",
       "       [ 0, 37,  0,  0,  0,  0,  0,  0,  0,  0],\n",
       "       [ 0,  0, 39,  0,  0,  0,  0,  0,  0,  0],\n",
       "       [ 0,  0,  0, 41,  0,  0,  0,  0,  0,  0],\n",
       "       [ 0,  0,  0,  0, 41,  0,  0,  0,  0,  0],\n",
       "       [ 0,  0,  0,  0,  0, 27,  0,  0,  0,  0],\n",
       "       [ 0,  0,  0,  0,  0,  0, 30,  0,  0,  0],\n",
       "       [ 0,  0,  0,  0,  0,  0,  0, 36,  0,  0],\n",
       "       [ 0,  0,  0,  0,  0,  0,  0,  0, 34,  0],\n",
       "       [ 0,  0,  0,  0,  1,  0,  0,  0,  1, 35]])"
      ]
     },
     "execution_count": 156,
     "metadata": {},
     "output_type": "execute_result"
    }
   ],
   "execution_count": 156
  },
  {
   "metadata": {
    "ExecuteTime": {
     "end_time": "2025-04-03T13:34:41.320350Z",
     "start_time": "2025-04-03T13:34:41.294124Z"
    }
   },
   "cell_type": "code",
   "source": "print(classification_report(expected, predicted, target_names=nums))",
   "id": "df47932889f89368",
   "outputs": [
    {
     "name": "stdout",
     "output_type": "stream",
     "text": [
      "              precision    recall  f1-score   support\n",
      "\n",
      "           0       1.00      1.00      1.00        38\n",
      "           1       1.00      1.00      1.00        37\n",
      "           2       1.00      1.00      1.00        39\n",
      "           3       1.00      1.00      1.00        41\n",
      "           4       0.98      1.00      0.99        41\n",
      "           5       1.00      1.00      1.00        27\n",
      "           6       1.00      1.00      1.00        30\n",
      "           7       1.00      1.00      1.00        36\n",
      "           8       0.97      1.00      0.99        34\n",
      "           9       1.00      0.95      0.97        37\n",
      "\n",
      "    accuracy                           0.99       360\n",
      "   macro avg       0.99      0.99      0.99       360\n",
      "weighted avg       0.99      0.99      0.99       360\n",
      "\n"
     ]
    }
   ],
   "execution_count": 157
  },
  {
   "metadata": {
    "ExecuteTime": {
     "end_time": "2025-04-03T13:34:53.621001Z",
     "start_time": "2025-04-03T13:34:53.590673Z"
    }
   },
   "cell_type": "code",
   "source": "del predicted, expected, knn_conf, knn",
   "id": "fa76a09c53425863",
   "outputs": [],
   "execution_count": 159
  },
  {
   "metadata": {
    "ExecuteTime": {
     "end_time": "2025-04-03T13:34:59.794127Z",
     "start_time": "2025-04-03T13:34:59.747287Z"
    }
   },
   "cell_type": "code",
   "source": [
    "knn = KNeighborsClassifier(n_neighbors=low_k).fit(X_train, y_train)\n",
    "predicted = knn.predict(X=X_test)\n",
    "expected = y_test"
   ],
   "id": "e554078e57e49237",
   "outputs": [],
   "execution_count": 161
  },
  {
   "metadata": {
    "ExecuteTime": {
     "end_time": "2025-04-03T13:35:01.634508Z",
     "start_time": "2025-04-03T13:35:01.603121Z"
    }
   },
   "cell_type": "code",
   "source": "print(f'{knn.score(X_test, y_test):.4%}')",
   "id": "6f2dd6b256706375",
   "outputs": [
    {
     "name": "stdout",
     "output_type": "stream",
     "text": [
      "97.2222%\n"
     ]
    }
   ],
   "execution_count": 162
  },
  {
   "metadata": {
    "ExecuteTime": {
     "end_time": "2025-04-03T13:35:03.212961Z",
     "start_time": "2025-04-03T13:35:03.181686Z"
    }
   },
   "cell_type": "code",
   "source": [
    "knn_conf = confusion_matrix(y_true=expected, y_pred=predicted)\n",
    "knn_conf"
   ],
   "id": "6e295be62800e2d5",
   "outputs": [
    {
     "data": {
      "text/plain": [
       "array([[38,  0,  0,  0,  0,  0,  0,  0,  0,  0],\n",
       "       [ 0, 37,  0,  0,  0,  0,  0,  0,  0,  0],\n",
       "       [ 0,  0, 39,  0,  0,  0,  0,  0,  0,  0],\n",
       "       [ 0,  0,  0, 39,  0,  1,  0,  1,  0,  0],\n",
       "       [ 0,  0,  0,  0, 40,  0,  0,  1,  0,  0],\n",
       "       [ 0,  0,  0,  0,  0, 27,  0,  0,  0,  0],\n",
       "       [ 0,  0,  0,  0,  0,  0, 30,  0,  0,  0],\n",
       "       [ 0,  0,  0,  0,  0,  0,  0, 36,  0,  0],\n",
       "       [ 0,  1,  0,  0,  0,  0,  1,  0, 32,  0],\n",
       "       [ 0,  0,  0,  0,  0,  1,  0,  3,  1, 32]])"
      ]
     },
     "execution_count": 163,
     "metadata": {},
     "output_type": "execute_result"
    }
   ],
   "execution_count": 163
  },
  {
   "metadata": {
    "ExecuteTime": {
     "end_time": "2025-04-03T13:35:04.656150Z",
     "start_time": "2025-04-03T13:35:04.624840Z"
    }
   },
   "cell_type": "code",
   "source": "print(classification_report(expected, predicted, target_names=nums))",
   "id": "43729a28e84d3ce9",
   "outputs": [
    {
     "name": "stdout",
     "output_type": "stream",
     "text": [
      "              precision    recall  f1-score   support\n",
      "\n",
      "           0       1.00      1.00      1.00        38\n",
      "           1       0.97      1.00      0.99        37\n",
      "           2       1.00      1.00      1.00        39\n",
      "           3       1.00      0.95      0.97        41\n",
      "           4       1.00      0.98      0.99        41\n",
      "           5       0.93      1.00      0.96        27\n",
      "           6       0.97      1.00      0.98        30\n",
      "           7       0.88      1.00      0.94        36\n",
      "           8       0.97      0.94      0.96        34\n",
      "           9       1.00      0.86      0.93        37\n",
      "\n",
      "    accuracy                           0.97       360\n",
      "   macro avg       0.97      0.97      0.97       360\n",
      "weighted avg       0.97      0.97      0.97       360\n",
      "\n"
     ]
    }
   ],
   "execution_count": 164
  },
  {
   "metadata": {
    "ExecuteTime": {
     "end_time": "2025-04-03T13:33:55.131005Z",
     "start_time": "2025-04-03T13:33:55.115381Z"
    }
   },
   "cell_type": "code",
   "source": "del predicted, expected, knn_conf, knn",
   "id": "9d376144dd4dbe1e",
   "outputs": [],
   "execution_count": 135
  },
  {
   "metadata": {},
   "cell_type": "markdown",
   "source": "SVC",
   "id": "2052c21227c6e454"
  },
  {
   "metadata": {
    "ExecuteTime": {
     "end_time": "2025-04-03T13:33:55.193528Z",
     "start_time": "2025-04-03T13:33:55.131005Z"
    }
   },
   "cell_type": "code",
   "source": "svc = SVC().fit(X_train, y_train)",
   "id": "bdb461ec4ee8230a",
   "outputs": [],
   "execution_count": 136
  },
  {
   "metadata": {
    "ExecuteTime": {
     "end_time": "2025-04-03T13:33:55.245814Z",
     "start_time": "2025-04-03T13:33:55.193528Z"
    }
   },
   "cell_type": "code",
   "source": [
    "predicted = svc.predict(X=X_test)\n",
    "expected = y_test"
   ],
   "id": "59713f70eb62f091",
   "outputs": [],
   "execution_count": 137
  },
  {
   "metadata": {
    "ExecuteTime": {
     "end_time": "2025-04-03T13:33:55.263593Z",
     "start_time": "2025-04-03T13:33:55.247962Z"
    }
   },
   "cell_type": "code",
   "source": "predicted[:36]",
   "id": "9fa9c66d52b1c54d",
   "outputs": [
    {
     "data": {
      "text/plain": [
       "array([0, 4, 9, 9, 3, 1, 4, 1, 5, 0, 4, 9, 4, 1, 5, 3, 3, 8, 5, 6, 9, 6,\n",
       "       0, 6, 9, 3, 2, 1, 8, 1, 7, 0, 4, 4, 1, 5])"
      ]
     },
     "execution_count": 138,
     "metadata": {},
     "output_type": "execute_result"
    }
   ],
   "execution_count": 138
  },
  {
   "metadata": {
    "ExecuteTime": {
     "end_time": "2025-04-03T13:33:55.276193Z",
     "start_time": "2025-04-03T13:33:55.263593Z"
    }
   },
   "cell_type": "code",
   "source": "expected[:36]",
   "id": "9ec622d7b75fc57b",
   "outputs": [
    {
     "data": {
      "text/plain": [
       "array([0, 4, 9, 9, 3, 1, 4, 1, 5, 0, 4, 9, 4, 1, 5, 3, 3, 8, 3, 6, 9, 6,\n",
       "       0, 6, 9, 3, 2, 1, 8, 1, 7, 0, 4, 4, 1, 5])"
      ]
     },
     "execution_count": 139,
     "metadata": {},
     "output_type": "execute_result"
    }
   ],
   "execution_count": 139
  },
  {
   "metadata": {
    "ExecuteTime": {
     "end_time": "2025-04-03T13:33:55.331823Z",
     "start_time": "2025-04-03T13:33:55.277207Z"
    }
   },
   "cell_type": "code",
   "source": "print(f'{svc.score(X_test, y_test):.4%}')",
   "id": "6479791c21e9416a",
   "outputs": [
    {
     "name": "stdout",
     "output_type": "stream",
     "text": [
      "98.6111%\n"
     ]
    }
   ],
   "execution_count": 140
  },
  {
   "metadata": {
    "ExecuteTime": {
     "end_time": "2025-04-03T13:33:55.347401Z",
     "start_time": "2025-04-03T13:33:55.331823Z"
    }
   },
   "cell_type": "code",
   "source": [
    "svc_conf = confusion_matrix(y_true=expected, y_pred=predicted)\n",
    "svc_conf"
   ],
   "id": "4c5c4bc7454aca09",
   "outputs": [
    {
     "data": {
      "text/plain": [
       "array([[38,  0,  0,  0,  0,  0,  0,  0,  0,  0],\n",
       "       [ 0, 37,  0,  0,  0,  0,  0,  0,  0,  0],\n",
       "       [ 0,  0, 39,  0,  0,  0,  0,  0,  0,  0],\n",
       "       [ 0,  0,  0, 38,  0,  1,  0,  1,  1,  0],\n",
       "       [ 0,  0,  0,  0, 41,  0,  0,  0,  0,  0],\n",
       "       [ 0,  0,  0,  0,  0, 27,  0,  0,  0,  0],\n",
       "       [ 0,  0,  0,  0,  0,  0, 30,  0,  0,  0],\n",
       "       [ 0,  0,  0,  0,  0,  0,  0, 35,  0,  1],\n",
       "       [ 0,  0,  0,  0,  0,  0,  0,  0, 34,  0],\n",
       "       [ 0,  0,  0,  0,  0,  0,  0,  1,  0, 36]])"
      ]
     },
     "execution_count": 141,
     "metadata": {},
     "output_type": "execute_result"
    }
   ],
   "execution_count": 141
  },
  {
   "metadata": {
    "ExecuteTime": {
     "end_time": "2025-04-03T13:33:55.378697Z",
     "start_time": "2025-04-03T13:33:55.347401Z"
    }
   },
   "cell_type": "code",
   "source": "print(classification_report(expected, predicted, target_names=nums))",
   "id": "a60dec4446ffe5f5",
   "outputs": [
    {
     "name": "stdout",
     "output_type": "stream",
     "text": [
      "              precision    recall  f1-score   support\n",
      "\n",
      "           0       1.00      1.00      1.00        38\n",
      "           1       1.00      1.00      1.00        37\n",
      "           2       1.00      1.00      1.00        39\n",
      "           3       1.00      0.93      0.96        41\n",
      "           4       1.00      1.00      1.00        41\n",
      "           5       0.96      1.00      0.98        27\n",
      "           6       1.00      1.00      1.00        30\n",
      "           7       0.95      0.97      0.96        36\n",
      "           8       0.97      1.00      0.99        34\n",
      "           9       0.97      0.97      0.97        37\n",
      "\n",
      "    accuracy                           0.99       360\n",
      "   macro avg       0.99      0.99      0.99       360\n",
      "weighted avg       0.99      0.99      0.99       360\n",
      "\n"
     ]
    }
   ],
   "execution_count": 142
  },
  {
   "metadata": {
    "ExecuteTime": {
     "end_time": "2025-04-03T13:33:55.394315Z",
     "start_time": "2025-04-03T13:33:55.378697Z"
    }
   },
   "cell_type": "code",
   "source": "del predicted, expected",
   "id": "a2cfa1b0ae7b1799",
   "outputs": [],
   "execution_count": 143
  },
  {
   "metadata": {},
   "cell_type": "markdown",
   "source": "GaussianNB",
   "id": "88e8fcb0a2795fa8"
  },
  {
   "metadata": {
    "ExecuteTime": {
     "end_time": "2025-04-03T13:33:55.416583Z",
     "start_time": "2025-04-03T13:33:55.394315Z"
    }
   },
   "cell_type": "code",
   "source": "gauss = GaussianNB().fit(X_train, y_train)",
   "id": "86dde2a40c990320",
   "outputs": [],
   "execution_count": 144
  },
  {
   "metadata": {
    "ExecuteTime": {
     "end_time": "2025-04-03T13:33:55.432158Z",
     "start_time": "2025-04-03T13:33:55.416583Z"
    }
   },
   "cell_type": "code",
   "source": [
    "predicted = gauss.predict(X=X_test)\n",
    "expected = y_test"
   ],
   "id": "9ba1986c62b0051e",
   "outputs": [],
   "execution_count": 145
  },
  {
   "metadata": {
    "ExecuteTime": {
     "end_time": "2025-04-03T13:33:55.447823Z",
     "start_time": "2025-04-03T13:33:55.432158Z"
    }
   },
   "cell_type": "code",
   "source": "predicted[:36]",
   "id": "eb435b87cb77543f",
   "outputs": [
    {
     "data": {
      "text/plain": [
       "array([0, 4, 7, 9, 3, 8, 4, 1, 5, 0, 7, 9, 4, 1, 5, 3, 3, 8, 5, 6, 9, 4,\n",
       "       0, 6, 9, 3, 2, 1, 8, 1, 7, 0, 4, 4, 1, 5])"
      ]
     },
     "execution_count": 146,
     "metadata": {},
     "output_type": "execute_result"
    }
   ],
   "execution_count": 146
  },
  {
   "metadata": {
    "ExecuteTime": {
     "end_time": "2025-04-03T13:33:55.463433Z",
     "start_time": "2025-04-03T13:33:55.447823Z"
    }
   },
   "cell_type": "code",
   "source": "expected[:36]",
   "id": "f2bff5551a720a62",
   "outputs": [
    {
     "data": {
      "text/plain": [
       "array([0, 4, 9, 9, 3, 1, 4, 1, 5, 0, 4, 9, 4, 1, 5, 3, 3, 8, 3, 6, 9, 6,\n",
       "       0, 6, 9, 3, 2, 1, 8, 1, 7, 0, 4, 4, 1, 5])"
      ]
     },
     "execution_count": 147,
     "metadata": {},
     "output_type": "execute_result"
    }
   ],
   "execution_count": 147
  },
  {
   "metadata": {
    "ExecuteTime": {
     "end_time": "2025-04-03T13:33:55.479069Z",
     "start_time": "2025-04-03T13:33:55.463433Z"
    }
   },
   "cell_type": "code",
   "source": "print(f'{gauss.score(X_test, y_test):.4%}')",
   "id": "159cf942fd0cea9",
   "outputs": [
    {
     "name": "stdout",
     "output_type": "stream",
     "text": [
      "85.5556%\n"
     ]
    }
   ],
   "execution_count": 148
  },
  {
   "metadata": {
    "ExecuteTime": {
     "end_time": "2025-04-03T13:33:55.494781Z",
     "start_time": "2025-04-03T13:33:55.479069Z"
    }
   },
   "cell_type": "code",
   "source": [
    "gauss_conf = confusion_matrix(y_true=expected, y_pred=predicted)\n",
    "gauss_conf"
   ],
   "id": "644b7adf5ad94070",
   "outputs": [
    {
     "data": {
      "text/plain": [
       "array([[36,  0,  0,  0,  1,  0,  0,  1,  0,  0],\n",
       "       [ 0, 31,  0,  0,  0,  0,  0,  1,  3,  2],\n",
       "       [ 0,  1, 34,  0,  0,  0,  0,  0,  4,  0],\n",
       "       [ 0,  1,  0, 33,  0,  2,  0,  2,  3,  0],\n",
       "       [ 0,  0,  0,  0, 36,  0,  0,  5,  0,  0],\n",
       "       [ 0,  0,  0,  0,  0, 27,  0,  0,  0,  0],\n",
       "       [ 0,  0,  1,  0,  1,  0, 28,  0,  0,  0],\n",
       "       [ 0,  0,  0,  0,  0,  0,  0, 36,  0,  0],\n",
       "       [ 0,  3,  0,  1,  0,  1,  0,  4, 25,  0],\n",
       "       [ 1,  2,  0,  0,  1,  0,  0,  8,  3, 22]])"
      ]
     },
     "execution_count": 149,
     "metadata": {},
     "output_type": "execute_result"
    }
   ],
   "execution_count": 149
  },
  {
   "metadata": {
    "ExecuteTime": {
     "end_time": "2025-04-03T13:33:55.527020Z",
     "start_time": "2025-04-03T13:33:55.494781Z"
    }
   },
   "cell_type": "code",
   "source": "print(classification_report(expected, predicted, target_names=nums))",
   "id": "a5434f7c9a00af20",
   "outputs": [
    {
     "name": "stdout",
     "output_type": "stream",
     "text": [
      "              precision    recall  f1-score   support\n",
      "\n",
      "           0       0.97      0.95      0.96        38\n",
      "           1       0.82      0.84      0.83        37\n",
      "           2       0.97      0.87      0.92        39\n",
      "           3       0.97      0.80      0.88        41\n",
      "           4       0.92      0.88      0.90        41\n",
      "           5       0.90      1.00      0.95        27\n",
      "           6       1.00      0.93      0.97        30\n",
      "           7       0.63      1.00      0.77        36\n",
      "           8       0.66      0.74      0.69        34\n",
      "           9       0.92      0.59      0.72        37\n",
      "\n",
      "    accuracy                           0.86       360\n",
      "   macro avg       0.88      0.86      0.86       360\n",
      "weighted avg       0.88      0.86      0.86       360\n",
      "\n"
     ]
    }
   ],
   "execution_count": 150
  },
  {
   "metadata": {
    "ExecuteTime": {
     "end_time": "2025-04-03T13:33:55.542645Z",
     "start_time": "2025-04-03T13:33:55.527020Z"
    }
   },
   "cell_type": "code",
   "source": "del predicted, expected",
   "id": "5b80f0c6922743d7",
   "outputs": [],
   "execution_count": 151
  }
 ],
 "metadata": {
  "kernelspec": {
   "display_name": "Python 3",
   "language": "python",
   "name": "python3"
  },
  "language_info": {
   "codemirror_mode": {
    "name": "ipython",
    "version": 2
   },
   "file_extension": ".py",
   "mimetype": "text/x-python",
   "name": "python",
   "nbconvert_exporter": "python",
   "pygments_lexer": "ipython2",
   "version": "2.7.6"
  }
 },
 "nbformat": 4,
 "nbformat_minor": 5
}
